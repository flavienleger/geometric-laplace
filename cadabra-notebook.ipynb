{
 "cells": [
  {
   "cell_type": "markdown",
   "id": "f0657705",
   "metadata": {},
   "source": [
    "# A geometric Laplace expansion\n",
    "\n",
    "This notebook is companion to the paper\n",
    "\n",
    "[1] *A geometric Laplace expansion*, FL, FXV\n",
    "\n",
    "It verifies some formulas presented in the paper.\n",
    "\n",
    "Let us start with general definitions and properties of indices and symmetries"
   ]
  },
  {
   "cell_type": "code",
   "execution_count": 92,
   "id": "c6c7c169",
   "metadata": {},
   "outputs": [],
   "source": [
    "# For isolate(), factor_out()\n",
    "from cdb.core.manip import *"
   ]
  },
  {
   "cell_type": "code",
   "execution_count": 93,
   "id": "04728c85",
   "metadata": {},
   "outputs": [],
   "source": [
    "# Define the x indices (unbarred)\n",
    "{i,j,k,l,m,n,s,t,r,p,q}::Indices(position=independent, name=\"xIndices\").\n",
    "\n",
    "# Define the y indices (barred)\n",
    "ib::LaTeXForm(\"{\\bar\\imath}\").\n",
    "jb::LaTeXForm(\"{\\bar\\jmath}\").\n",
    "kb::LaTeXForm(\"{\\bar k}\").\n",
    "lb::LaTeXForm(\"{\\bar l}\").\n",
    "mb::LaTeXForm(\"{\\bar m}\").\n",
    "nb::LaTeXForm(\"{\\bar n}\").\n",
    "sb::LaTeXForm(\"{\\bar s}\").\n",
    "tb::LaTeXForm(\"{\\bar t}\").\n",
    "rb::LaTeXForm(\"{\\bar r}\").\n",
    "pb::LaTeXForm(\"{\\bar p}\").\n",
    "qb::LaTeXForm(\"{\\bar q}\").\n",
    "{ib,jb,kb,lb,mb,nb,sb,tb,rb,pb,qb}::Indices(position=independent, name=\"yIndices\").\n",
    "\n",
    "\n",
    "\n",
    "Rt{#}::LaTeXForm(\"{\\tilde R}\").\n",
    "# Rt_{a? b? c? d?}::TableauSymmetry( shape={2,2}, indices={0,2,1,3} ).\n",
    "mt::LaTeXForm(\"{\\tilde m}\").\n",
    "\n",
    "\n",
    "# Symmetries\n",
    "u_{i j}::Symmetric.\n",
    "u^{i j}::Symmetric.\n",
    "u_{i j k}::Symmetric.\n",
    "u_{i j k l}::Symmetric.\n",
    "\n",
    "c_{a? b?}::Symmetric.\n",
    "c^{a? b?}::Symmetric.\n",
    "c_{a? b? e?}::Symmetric.\n",
    "c_{a? b? e? f?}::Symmetric.\n",
    "\n",
    "h_{i j k}::Symmetric.\n",
    "\n",
    "u_{i}^{j}::KroneckerDelta.\n",
    "u^{i}_{j}::KroneckerDelta. \n",
    "\n",
    "# Derivatives\n",
    "{\\partial{#}}::PartialDerivative.\n",
    "{D{#}}::Derivative.\n",
    "{\\nabla{#}}::Derivative."
   ]
  },
  {
   "cell_type": "code",
   "execution_count": 94,
   "id": "5b5e71a7",
   "metadata": {},
   "outputs": [],
   "source": [
    "# Convenience function \n",
    "def tidy(ex):\n",
    "    sort_product(ex)\n",
    "    rename_dummies(ex)\n",
    "    canonicalise(ex)\n",
    "    sort_sum(ex);"
   ]
  },
  {
   "cell_type": "markdown",
   "id": "5f632381",
   "metadata": {},
   "source": [
    "# 1. Calculus on $\\Sigma$\n",
    "\n",
    "Rules: express quantities terms of $u$, $c$, $\\partial y$ and $h$\n",
    "\n",
    "Here we use the differential operator $D_i = \\tilde\\nabla_{t_i} = \\partial_i + \\partial_i y^{\\bar\\imath}\\partial_{\\bar\\imath} $."
   ]
  },
  {
   "cell_type": "code",
   "execution_count": 95,
   "id": "e3f99b1c",
   "metadata": {},
   "outputs": [
    {
     "data": {
      "text/markdown": [
       "${}\\left[\\partial_{i}{y^{{\\bar\\imath}}} u^{i j} = -c^{{\\bar\\imath} j}, \\partial_{i}{y^{{\\bar\\imath}}} u^{j i} = -c^{{\\bar\\imath} j}, \\partial_{i}{y^{{\\bar\\imath}}} c^{i {\\bar\\jmath}} = -u^{{\\bar\\imath} {\\bar\\jmath}}, \\partial_{i}{y^{{\\bar\\imath}}} c^{{\\bar\\jmath} i} = -u^{{\\bar\\imath} {\\bar\\jmath}}, c_{i {\\bar\\jmath}} u^{{\\bar\\imath} {\\bar\\jmath}} = -\\partial_{i}{y^{{\\bar\\imath}}}, c_{{\\bar\\jmath} i} u^{{\\bar\\imath} {\\bar\\jmath}} = -\\partial_{i}{y^{{\\bar\\imath}}}, c_{i {\\bar\\jmath}} u^{{\\bar\\jmath} {\\bar\\imath}} = -\\partial_{i}{y^{{\\bar\\imath}}}, c_{{\\bar\\jmath} i} u^{{\\bar\\jmath} {\\bar\\imath}} = -\\partial_{i}{y^{{\\bar\\imath}}}, c^{{\\bar\\imath} j} u_{i j} = \\partial_{i}{y^{{\\bar\\imath}}}, c^{{\\bar\\imath} j} u_{j i} = \\partial_{i}{y^{{\\bar\\imath}}}\\right]$"
      ]
     },
     "metadata": {},
     "output_type": "display_data"
    },
    {
     "data": {
      "text/markdown": [
       "${}\\left[u_{i j} u^{j k} = u_{i}\\,^{k}, u_{i j} u^{k j} = u_{i}\\,^{k}, u_{j i} u^{j k} = u_{i}\\,^{k}, u_{j i} u^{k j} = u_{i}\\,^{k}\\right]$"
      ]
     },
     "metadata": {},
     "output_type": "display_data"
    },
    {
     "data": {
      "text/markdown": [
       "${}\\partial_{i}{{\\tilde m}} = c^{s {\\bar t}} c_{i s {\\bar t}} {\\tilde m}$"
      ]
     },
     "metadata": {},
     "output_type": "display_data"
    },
    {
     "data": {
      "text/markdown": [
       "${}\\partial_{i j}{{\\tilde m}} = \\left(c^{k {\\bar l}} c_{i j k {\\bar l}}-c^{{\\bar k} m} c^{l {\\bar n}} c_{i {\\bar k} l} c_{j m {\\bar n}}\\right) {\\tilde m}+\\partial_{i}{{\\tilde m}} \\partial_{j}{{\\tilde m}} {{\\tilde m}}^{-1}$"
      ]
     },
     "metadata": {},
     "output_type": "display_data"
    },
    {
     "data": {
      "text/markdown": [
       "${}\\left[c_{i l {\\bar\\jmath} {\\bar k}} = c_{l i {\\bar s}} c^{t {\\bar s}} c_{t {\\bar\\jmath} {\\bar k}}+2{\\tilde R}_{i {\\bar\\jmath} {\\bar k} l}, c_{i {\\bar\\jmath} l {\\bar k}} = c_{l i {\\bar s}} c^{t {\\bar s}} c_{t {\\bar\\jmath} {\\bar k}}+2{\\tilde R}_{i {\\bar\\jmath} {\\bar k} l}, c_{i {\\bar\\jmath} {\\bar k} l} = c_{l i {\\bar s}} c^{t {\\bar s}} c_{t {\\bar\\jmath} {\\bar k}}+2{\\tilde R}_{i {\\bar\\jmath} {\\bar k} l}, c_{{\\bar\\jmath} i l {\\bar k}} = c_{l i {\\bar s}} c^{t {\\bar s}} c_{t {\\bar\\jmath} {\\bar k}}+2{\\tilde R}_{i {\\bar\\jmath} {\\bar k} l}, c_{{\\bar\\jmath} i {\\bar k} l} = c_{l i {\\bar s}} c^{t {\\bar s}} c_{t {\\bar\\jmath} {\\bar k}}+2{\\tilde R}_{i {\\bar\\jmath} {\\bar k} l}, c_{{\\bar\\jmath} {\\bar k} i l} = c_{l i {\\bar s}} c^{t {\\bar s}} c_{t {\\bar\\jmath} {\\bar k}}+2{\\tilde R}_{i {\\bar\\jmath} {\\bar k} l}\\right]$"
      ]
     },
     "metadata": {},
     "output_type": "display_data"
    },
    {
     "data": {
      "text/markdown": [
       "${}\\partial_{j k}{y^{{\\bar\\imath}}} = c^{i {\\bar m}} c_{j k {\\bar m}} \\partial_{i}{y^{{\\bar\\imath}}}-c^{{\\bar\\imath} m} c_{{\\bar\\jmath} {\\bar k} m} \\partial_{j}{y^{{\\bar\\jmath}}} \\partial_{k}{y^{{\\bar k}}}+2c^{{\\bar\\imath} m} h_{j k m}$"
      ]
     },
     "metadata": {},
     "output_type": "display_data"
    },
    {
     "data": {
      "text/markdown": [
       "${}u_{i j k} = -c_{{\\bar\\imath} j k} \\partial_{i}{y^{{\\bar\\imath}}}-c_{i {\\bar\\jmath} k} \\partial_{j}{y^{{\\bar\\jmath}}}-c_{i j {\\bar k}} \\partial_{k}{y^{{\\bar k}}}-2h_{i j k}$"
      ]
     },
     "metadata": {},
     "output_type": "display_data"
    },
    {
     "data": {
      "text/markdown": [
       "${}u_{i j k l} = -2\\partial_{l}{h_{i j k}}-\\partial_{i}{y^{{\\bar\\imath}}} c_{j k l {\\bar\\imath}}-\\partial_{j}{y^{{\\bar\\imath}}} c_{i k l {\\bar\\imath}}-\\partial_{k}{y^{{\\bar\\imath}}} c_{i j l {\\bar\\imath}}-\\partial_{l}{y^{{\\bar\\imath}}} c_{i j k {\\bar\\imath}}-\\partial_{i}{y^{{\\bar\\imath}}} \\partial_{l}{y^{{\\bar\\jmath}}} c_{j k {\\bar\\imath} {\\bar\\jmath}}-\\partial_{j}{y^{{\\bar\\imath}}} \\partial_{l}{y^{{\\bar\\jmath}}} c_{i k {\\bar\\imath} {\\bar\\jmath}}-\\partial_{k}{y^{{\\bar\\imath}}} \\partial_{l}{y^{{\\bar\\jmath}}} c_{i j {\\bar\\imath} {\\bar\\jmath}}-2c^{{\\bar\\imath} m} c_{i j {\\bar\\imath}} h_{k l m}-2c^{{\\bar\\imath} m} c_{i k {\\bar\\imath}} h_{j l m}-2c^{{\\bar\\imath} m} c_{j k {\\bar\\imath}} h_{i l m}+c_{i j {\\bar\\imath}} c_{k l {\\bar\\jmath}} u^{{\\bar\\imath} {\\bar\\jmath}}+c_{i k {\\bar\\imath}} c_{j l {\\bar\\jmath}} u^{{\\bar\\imath} {\\bar\\jmath}}+c_{i l {\\bar\\imath}} c_{j k {\\bar\\jmath}} u^{{\\bar\\jmath} {\\bar\\imath}}+\\partial_{i}{y^{{\\bar\\imath}}} \\partial_{l}{y^{{\\bar\\jmath}}} c^{{\\bar k} m} c_{j k {\\bar k}} c_{{\\bar\\imath} {\\bar\\jmath} m}+\\partial_{j}{y^{{\\bar\\imath}}} \\partial_{l}{y^{{\\bar\\jmath}}} c^{{\\bar k} m} c_{i k {\\bar k}} c_{{\\bar\\imath} {\\bar\\jmath} m}+\\partial_{k}{y^{{\\bar\\imath}}} \\partial_{l}{y^{{\\bar\\jmath}}} c^{{\\bar k} m} c_{i j {\\bar k}} c_{{\\bar\\imath} {\\bar\\jmath} m}$"
      ]
     },
     "metadata": {},
     "output_type": "display_data"
    },
    {
     "data": {
      "text/markdown": [
       "${}{\\tilde R}_{i {\\bar\\jmath} k {\\bar l}} u^{i k} u^{{\\bar\\jmath} {\\bar l}} = \\frac{1}{2}R_{i j k l} u^{i k} u^{j l}+{\\tilde R}_{i {\\bar\\imath} j {\\bar\\jmath}} c^{i {\\bar\\jmath}} c^{{\\bar\\imath} j}+\\frac{1}{2}h_{i j k} h_{l m n} u^{i j} u^{k l} u^{m n} - \\frac{1}{2}h_{i j k} h_{l m n} u^{i l} u^{j m} u^{k n}$"
      ]
     },
     "metadata": {},
     "output_type": "display_data"
    },
    {
     "data": {
      "text/markdown": [
       "${}\\partial_{i}{f} = \\frac{1}{2}G_{i} - \\frac{1}{2}N_{i}$"
      ]
     },
     "metadata": {},
     "output_type": "display_data"
    },
    {
     "data": {
      "text/markdown": [
       "${}\\partial_{i j}{f} = -\\partial_{{\\bar\\imath} j}{f} \\partial_{i}{y^{{\\bar\\imath}}}+\\frac{1}{2}\\partial_{i}{G_{j}} - \\frac{1}{2}\\partial_{i}{N_{j}}$"
      ]
     },
     "metadata": {},
     "output_type": "display_data"
    },
    {
     "data": {
      "text/markdown": [
       "${}\\partial_{i}{G_{j}} = \\nabla_{i}{G_{j}}+c_{i j {\\bar m}} c^{k {\\bar m}} G_{k}-u^{k l} h_{i j l} G_{k}$"
      ]
     },
     "metadata": {},
     "output_type": "display_data"
    },
    {
     "data": {
      "text/markdown": [
       "${}\\partial_{i}{N_{j}} = \\nabla_{i}{N_{j}}+c_{i j {\\bar m}} c^{k {\\bar m}} N_{k}-u^{k l} h_{i j l} N_{k}$"
      ]
     },
     "metadata": {},
     "output_type": "display_data"
    },
    {
     "data": {
      "text/markdown": [
       "${}\\partial_{l}{h_{i j k}} = \\nabla_{l}{h_{i j k}}+c^{{\\bar\\imath} m} c_{i l {\\bar\\imath}} h_{j k m}+c^{{\\bar\\imath} m} c_{j l {\\bar\\imath}} h_{i k m}+c^{{\\bar\\imath} m} c_{k l {\\bar\\imath}} h_{i j m}-h_{i j m} h_{k l n} u^{m n}-h_{i k m} h_{j l n} u^{m n}-h_{i l m} h_{j k n} u^{m n}$"
      ]
     },
     "metadata": {},
     "output_type": "display_data"
    }
   ],
   "source": [
    "# Rules\n",
    "\n",
    "# Basic rules\n",
    "rules_cu:= {\\partial_{i}{y^{ib}} u^{i j} = -c^{ib j}, \\partial_{i}{y^{ib}} u^{j i} = -c^{ib j}, \n",
    "            \\partial_{i}{y^{ib}} c^{i jb} = -u^{ib jb}, \\partial_{i}{y^{ib}} c^{jb i} = -u^{ib jb},\n",
    "           c_{i jb} u^{ib jb} = -\\partial_{i}{y^{ib}}, c_{jb i} u^{ib jb} = -\\partial_{i}{y^{ib}},\n",
    "           c_{i jb} u^{jb ib} = -\\partial_{i}{y^{ib}}, c_{jb i} u^{jb ib} = -\\partial_{i}{y^{ib}},\n",
    "           c^{ib j} u_{i j} = \\partial_{i}{y^{ib}}, c^{ib j} u_{j i} = \\partial_{i}{y^{ib}}};\n",
    "rules_kronecker:= {u_{i j} u^{j k} = u_{i}^{k}, u_{i j} u^{k j} = u_{i}^{k}, \n",
    "                    u_{j i} u^{j k} = u_{i}^{k}, u_{j i} u^{k j} = u_{i}^{k}};           \n",
    "\n",
    "# Derivatives of the volume form\n",
    "rule_dmt:= \\partial_{i}{mt} = c^{s tb} c_{i s tb} mt;\n",
    "\n",
    "rule_ddmt:= \\partial_{i j}{mt} =  (c^{k lb} c_{i j k lb} - c^{kb m} c^{l nb} c_{i kb l} c_{j m nb}) mt\n",
    "               + \\partial_{i}{mt} \\partial_{j}{mt} / mt;\n",
    "\n",
    "# Doubly mixed derivatives of c in terms of the curvature               \n",
    "rules_d4c:= {c_{i l jb kb} = c_{l i sb} c^{t sb} c_{t jb kb} + 2 Rt_{i jb kb l}, c_{i jb l kb} = c_{l i sb} c^{t sb} c_{t jb kb} + 2 Rt_{i jb kb l}, c_{i jb kb l} = c_{l i sb} c^{t sb} c_{t jb kb} + 2 Rt_{i jb kb l}, c_{jb i l kb} = c_{l i sb} c^{t sb} c_{t jb kb} + 2 Rt_{i jb kb l}, c_{jb i kb l} = c_{l i sb} c^{t sb} c_{t jb kb} + 2 Rt_{i jb kb l}, c_{jb kb i l} = c_{l i sb} c^{t sb} c_{t jb kb} + 2 Rt_{i jb kb l}};\n",
    "\n",
    "# Two derivatives of y(x) in terms of h\n",
    "rule_ddy:= \\partial_{j k}{y^{ib}} = c^{i mb} c_{j k mb} \\partial_{i}{y^{ib}} \n",
    "-c^{ib m} c_{jb kb m} \\partial_{j}{y^{jb}} \\partial_{k}{y^{kb}} + 2 c^{ib m} h_{j k m};\n",
    "\n",
    "# Derivatives of u\n",
    "rule_uijk:= u_{i j k} = -c_{ib j k} \\partial_{i}{y^{ib}} - c_{i jb k} \\partial_{j}{y^{jb}} - c_{i j kb} \\partial_{k}{y^{kb}} - 2 h_{i j k};\n",
    "rule_uijkl:= u_{i j k l} = -2\\partial_{l}(h_{i j k})-\\partial_{i}(y^{ib}) c_{j k l ib}-\\partial_{j}(y^{ib}) c_{i k l ib}-\\partial_{k}(y^{ib}) c_{i j l ib}-\\partial_{l}(y^{ib}) c_{i j k ib}-\\partial_{i}(y^{ib}) \\partial_{l}(y^{jb}) c_{j k ib jb}-\\partial_{j}(y^{ib}) \\partial_{l}(y^{jb}) c_{i k ib jb}-\\partial_{k}(y^{ib}) \\partial_{l}(y^{jb}) c_{i j ib jb}-2c^{ib m} c_{i j ib} h_{k l m}-2c^{ib m} c_{i k ib} h_{j l m}-2c^{ib m} c_{j k ib} h_{i l m} + c_{i j ib} c_{k l jb} u^{ib jb} + c_{i k ib} c_{j l jb} u^{ib jb} + c_{i l ib} c_{j k jb} u^{jb ib} + \\partial_{i}(y^{ib}) \\partial_{l}(y^{jb}) c^{kb m} c_{j k kb} c_{ib jb m} + \\partial_{j}(y^{ib}) \\partial_{l}(y^{jb}) c^{kb m} c_{i k kb} c_{ib jb m} + \\partial_{k}(y^{ib}) \\partial_{l}(y^{jb}) c^{kb m} c_{i j kb} c_{ib jb m};\n",
    "\n",
    "\n",
    "# Gauss equation\n",
    "rule_gauss:= Rt_{i jb k lb} u^{i k} u^{jb lb} =  1/2 R_{i j k l} u^{i k} u^{j l} + Rt_{i ib j jb} c^{i jb} c^{ib j} +  1/2 h_{i j k} h_{l m n} u^{i j} u^{k l} u^{m n} -  1/2 h_{i j k} h_{l m n} u^{i l} u^{j m} u^{k n};\n",
    "\n",
    "\n",
    "# With a function f\n",
    "rule_df:= \\partial_{i}(f) =  1/2 G_{i} -  1/2 N_{i};\n",
    "\n",
    "rule_ddf:= \\partial_{i j}(f) = -\\partial_{ib j}(f) \\partial_{i}(y^{ib}) +  1/2 \\partial_{i}(G_{j}) -  1/2 \\partial_{i}(N_{j});\n",
    "\n",
    "\n",
    "# Partial derivatives in terms of covariant derivatives\n",
    "rule_dG:= \\partial_{i}{G_{j}} = \\nabla_{i}{G_{j}} + c_{i j mb} c^{k mb} G_{k} - u^{k l} h_{i j l} G_k;\n",
    "\n",
    "rule_dN:= \\partial_{i}{N_{j}} = \\nabla_{i}{N_{j}} + c_{i j mb} c^{k mb} N_{k} - u^{k l} h_{i j l} N_k;\n",
    "\n",
    "rule_dh:= \\partial_{l}{h_{i j k}} = \\nabla_{l}(h_{i j k}) + c^{ib m} c_{i l ib} h_{j k m} \n",
    "+ c^{ib m} c_{j l ib} h_{i k m} + c^{ib m} c_{k l ib} h_{i j m}-h_{i j m} h_{k l n} u^{m n}\n",
    "-h_{i k m} h_{j l n} u^{m n}-h_{i l m} h_{j k n} u^{m n};\n",
    "\n"
   ]
  },
  {
   "cell_type": "markdown",
   "id": "ca37d45d",
   "metadata": {},
   "source": [
    "# 2. Geometric Laplace expansion\n",
    "\n",
    "$\\newcommand{\\eps}{\\varepsilon}$\n",
    "$\\newcommand{\\abs}[1]{\\lvert #1 \\rvert}$\n",
    "$\\newcommand{\\mt}{\\tilde{m}}$\n",
    "\n",
    "\n",
    "The notation follows the paper. The standard Laplace expansion in coordinates gives\n",
    "\n",
    "$$\\iint_{X\\times Y}\\frac{e^{-u(x,y)/\\eps}}{(2\\pi\\eps)^{d/2}}\\,dr(x,y) = \\int_{\\Sigma} fdm \\,+ \\eps\\int_\\Sigma L \\,dm  + O(\\eps^2),$$\n",
    "\n",
    "with $f(x,y) = dr(x,y) / \\,d\\tilde{m}(x,y)$ and \n",
    "\n",
    "$$L = \\frac12 u^{i j} \\frac{\\partial_{i j}(f \\mt)}{\\mt} - \\frac12 u_{j k l} u^{i j} u^{k l} \\frac{\\partial_{i}(f \\mt)}{\\mt}\n",
    "+ f\\Big(\\frac18 u_{i j k} u_{l m n} u^{i j} u^{k l} u^{m n} + \\frac{1}{12} u_{i j k} u_{l m n} u^{i l} u^{j m} u^{k n} \n",
    "- \\frac18 u_{i j k l} u^{i j} u^{k l}\\Big)$$\n",
    "\n",
    "We break down $L=L_1+L_2+L_3+L_4+L_5$, with \n",
    "$$L_1 = \\frac12 u^{i j} \\frac{\\partial_{i j}(f \\mt)}{\\mt}, $$\n",
    "\n",
    "$$L_2 =  - \\frac12 u_{j k l} u^{i j} u^{k l} \\frac{\\partial_{i}(f \\mt)}{\\mt}\n",
    ",$$\n",
    "\n",
    "$$L_3 = \\frac18 f u_{i j k} u_{l m n} u^{i j} u^{k l} u^{m n} ,$$\n",
    "\n",
    "$$L_4 = \\frac{1}{12} f u_{i j k} u_{l m n} u^{i l} u^{j m} u^{k n} ,$$\n",
    "\n",
    "$$L_5 = - \\frac18 f u_{i j k l} u^{i j} u^{k l}.$$"
   ]
  },
  {
   "cell_type": "code",
   "execution_count": 96,
   "id": "773c538f",
   "metadata": {},
   "outputs": [
    {
     "data": {
      "text/markdown": [
       "${}L_{1} = \\frac{1}{2}u^{i j} \\partial_{i j}\\left(f {\\tilde m}\\right) {{\\tilde m}}^{-1}$"
      ]
     },
     "metadata": {},
     "output_type": "display_data"
    },
    {
     "data": {
      "text/markdown": [
       "${}L_{2} =  - \\frac{1}{2}u_{j k l} u^{i j} u^{k l} \\partial_{i}\\left(f {\\tilde m}\\right) {{\\tilde m}}^{-1}$"
      ]
     },
     "metadata": {},
     "output_type": "display_data"
    },
    {
     "data": {
      "text/markdown": [
       "${}L_{3} = \\frac{1}{8}f u_{i j k} u_{l m n} u^{i j} u^{k l} u^{m n}$"
      ]
     },
     "metadata": {},
     "output_type": "display_data"
    },
    {
     "data": {
      "text/markdown": [
       "${}L_{4} = \\frac{1}{12}f u_{i j k} u_{l m n} u^{i l} u^{j m} u^{k n}$"
      ]
     },
     "metadata": {},
     "output_type": "display_data"
    },
    {
     "data": {
      "text/markdown": [
       "${}L_{5} =  - \\frac{1}{8}f u_{i j k l} u^{i j} u^{k l}$"
      ]
     },
     "metadata": {},
     "output_type": "display_data"
    }
   ],
   "source": [
    "defL1:= L_1 = 1/2 u^{i j} \\partial_{i j}{f mt} / mt;\n",
    "defL2:= L_2 = - 1/2 u_{j k l} u^{i j} u^{k l} \\partial_{i}{f mt} / mt ;\n",
    "defL3:= L_3 = 1/8 f u_{i j k} u_{l m n} u^{i j} u^{k l} u^{m n} ;\n",
    "defL4:= L_4 = 1/12 f u_{i j k} u_{l m n} u^{i l} u^{j m} u^{k n} ;\n",
    "defL5:= L_5 = - 1/8 f u_{i j k l} u^{i j} u^{k l};"
   ]
  },
  {
   "cell_type": "markdown",
   "id": "5d5057a9",
   "metadata": {},
   "source": [
    "### Term $L_1$"
   ]
  },
  {
   "cell_type": "code",
   "execution_count": 97,
   "id": "880307a1",
   "metadata": {},
   "outputs": [
    {
     "data": {
      "text/markdown": [
       "${}L_{1} = \\frac{1}{2}u^{i j} \\partial_{i j}\\left(f {\\tilde m}\\right) {{\\tilde m}}^{-1}$"
      ]
     },
     "metadata": {},
     "output_type": "display_data"
    }
   ],
   "source": [
    "ex:= @(defL1);"
   ]
  },
  {
   "cell_type": "code",
   "execution_count": 98,
   "id": "dfa2d590",
   "metadata": {},
   "outputs": [
    {
     "data": {
      "text/markdown": [
       "${}L_{1} = \\frac{1}{2}u^{i j} \\partial_{i j}{f} {\\tilde m} {{\\tilde m}}^{-1}+\\frac{1}{2}u^{i j} \\partial_{j}{f} \\partial_{i}{{\\tilde m}} {{\\tilde m}}^{-1}+\\frac{1}{2}u^{i j} \\partial_{i}{f} \\partial_{j}{{\\tilde m}} {{\\tilde m}}^{-1}+\\frac{1}{2}u^{i j} f \\partial_{i j}{{\\tilde m}} {{\\tilde m}}^{-1}$"
      ]
     },
     "metadata": {},
     "output_type": "display_data"
    }
   ],
   "source": [
    "product_rule(_)\n",
    "distribute(_)\n",
    "product_rule(_)\n",
    "distribute(_);"
   ]
  },
  {
   "cell_type": "code",
   "execution_count": 99,
   "id": "e52acac5",
   "metadata": {},
   "outputs": [
    {
     "data": {
      "text/markdown": [
       "${}L_{1} = \\frac{1}{2}u^{i j} \\left(-\\partial_{{\\bar\\imath} j}{f} \\partial_{i}{y^{{\\bar\\imath}}}+\\frac{1}{2}\\partial_{i}{G_{j}} - \\frac{1}{2}\\partial_{i}{N_{j}}\\right) {\\tilde m} {{\\tilde m}}^{-1}+\\frac{1}{2}u^{i j} \\left(\\frac{1}{2}G_{j} - \\frac{1}{2}N_{j}\\right) \\partial_{i}{{\\tilde m}} {{\\tilde m}}^{-1}+\\frac{1}{2}u^{i j} \\left(\\frac{1}{2}G_{i} - \\frac{1}{2}N_{i}\\right) \\partial_{j}{{\\tilde m}} {{\\tilde m}}^{-1}+\\frac{1}{2}u^{i j} f \\partial_{i j}{{\\tilde m}} {{\\tilde m}}^{-1}$"
      ]
     },
     "metadata": {},
     "output_type": "display_data"
    }
   ],
   "source": [
    "substitute(_, rule_ddf)\n",
    "substitute(_, rule_df);"
   ]
  },
  {
   "cell_type": "code",
   "execution_count": 100,
   "id": "4c5e2922",
   "metadata": {},
   "outputs": [
    {
     "data": {
      "text/markdown": [
       "${}L_{1} = \\frac{1}{2}u^{i j} \\left(-\\partial_{{\\bar\\imath} j}{f} \\partial_{i}{y^{{\\bar\\imath}}}+\\frac{1}{2}\\partial_{i}{G_{j}} - \\frac{1}{2}\\partial_{i}{N_{j}}\\right) {\\tilde m} {{\\tilde m}}^{-1}+\\frac{1}{2}u^{i j} \\left(\\frac{1}{2}G_{j} - \\frac{1}{2}N_{j}\\right) c^{s {\\bar t}} c_{i s {\\bar t}} {\\tilde m} {{\\tilde m}}^{-1}+\\frac{1}{2}u^{i j} \\left(\\frac{1}{2}G_{i} - \\frac{1}{2}N_{i}\\right) c^{s {\\bar t}} c_{j s {\\bar t}} {\\tilde m} {{\\tilde m}}^{-1}+\\frac{1}{2}u^{i j} f \\left(\\left(c^{k {\\bar l}} c_{i j k {\\bar l}}-c^{{\\bar k} m} c^{l {\\bar n}} c_{i {\\bar k} l} c_{j m {\\bar n}}\\right) {\\tilde m}+c^{s {\\bar t}} c_{i s {\\bar t}} {\\tilde m} c^{k {\\bar\\imath}} c_{j k {\\bar\\imath}} {\\tilde m} {{\\tilde m}}^{-1}\\right) {{\\tilde m}}^{-1}$"
      ]
     },
     "metadata": {},
     "output_type": "display_data"
    }
   ],
   "source": [
    "substitute(_, rule_ddmt)\n",
    "substitute(_, rule_dmt);"
   ]
  },
  {
   "cell_type": "code",
   "execution_count": 101,
   "id": "c1097b16",
   "metadata": {},
   "outputs": [
    {
     "data": {
      "text/markdown": [
       "${}L_{1} =  - \\frac{1}{2}u^{i j} \\partial_{{\\bar\\imath} j}{f} \\partial_{i}{y^{{\\bar\\imath}}} {\\tilde m} {{\\tilde m}}^{-1}+\\frac{1}{4}u^{i j} \\partial_{i}{G_{j}} {\\tilde m} {{\\tilde m}}^{-1} - \\frac{1}{4}u^{i j} \\partial_{i}{N_{j}} {\\tilde m} {{\\tilde m}}^{-1}+\\frac{1}{4}u^{i j} G_{j} c^{s {\\bar t}} c_{i s {\\bar t}} {\\tilde m} {{\\tilde m}}^{-1} - \\frac{1}{4}u^{i j} N_{j} c^{s {\\bar t}} c_{i s {\\bar t}} {\\tilde m} {{\\tilde m}}^{-1}+\\frac{1}{4}u^{i j} G_{i} c^{s {\\bar t}} c_{j s {\\bar t}} {\\tilde m} {{\\tilde m}}^{-1} - \\frac{1}{4}u^{i j} N_{i} c^{s {\\bar t}} c_{j s {\\bar t}} {\\tilde m} {{\\tilde m}}^{-1}+\\frac{1}{2}u^{i j} f c^{k {\\bar l}} c_{i j k {\\bar l}} {\\tilde m} {{\\tilde m}}^{-1} - \\frac{1}{2}u^{i j} f c^{{\\bar k} m} c^{l {\\bar n}} c_{i {\\bar k} l} c_{j m {\\bar n}} {\\tilde m} {{\\tilde m}}^{-1}+\\frac{1}{2}u^{i j} f c^{s {\\bar t}} c_{i s {\\bar t}} {\\tilde m} c^{k {\\bar\\imath}} c_{j k {\\bar\\imath}} {\\tilde m} {{\\tilde m}}^{-1} {{\\tilde m}}^{-1}$"
      ]
     },
     "metadata": {},
     "output_type": "display_data"
    }
   ],
   "source": [
    "distribute(_);"
   ]
  },
  {
   "cell_type": "code",
   "execution_count": 102,
   "id": "813c2ca3",
   "metadata": {},
   "outputs": [
    {
     "data": {
      "text/markdown": [
       "${}L_{1} =  - \\frac{1}{2}u^{i j} \\partial_{{\\bar\\imath} j}{f} \\partial_{i}{y^{{\\bar\\imath}}}+\\frac{1}{4}u^{i j} \\partial_{i}{G_{j}} - \\frac{1}{4}u^{i j} \\partial_{i}{N_{j}}+\\frac{1}{4}u^{i j} G_{j} c^{s {\\bar t}} c_{i s {\\bar t}} - \\frac{1}{4}u^{i j} N_{j} c^{s {\\bar t}} c_{i s {\\bar t}}+\\frac{1}{4}u^{i j} G_{i} c^{s {\\bar t}} c_{j s {\\bar t}} - \\frac{1}{4}u^{i j} N_{i} c^{s {\\bar t}} c_{j s {\\bar t}}+\\frac{1}{2}u^{i j} f c^{k {\\bar l}} c_{i j k {\\bar l}} - \\frac{1}{2}u^{i j} f c^{{\\bar k} m} c^{l {\\bar n}} c_{i {\\bar k} l} c_{j m {\\bar n}}+\\frac{1}{2}u^{i j} f c^{s {\\bar t}} c_{i s {\\bar t}} c^{k {\\bar\\imath}} c_{j k {\\bar\\imath}}$"
      ]
     },
     "metadata": {},
     "output_type": "display_data"
    }
   ],
   "source": [
    "substitute(_, $mt**{-1} mt = 1$, repeat=True);"
   ]
  },
  {
   "cell_type": "code",
   "execution_count": 103,
   "id": "7b9a725d",
   "metadata": {},
   "outputs": [
    {
     "data": {
      "text/markdown": [
       "${}L_{1} = \\frac{1}{2}\\partial_{{\\bar\\imath} j}{f} c^{{\\bar\\imath} j}+\\frac{1}{4}u^{i j} \\partial_{i}{G_{j}} - \\frac{1}{4}u^{i j} \\partial_{i}{N_{j}}+\\frac{1}{4}u^{i j} G_{j} c^{s {\\bar t}} c_{i s {\\bar t}} - \\frac{1}{4}u^{i j} N_{j} c^{s {\\bar t}} c_{i s {\\bar t}}+\\frac{1}{4}u^{i j} G_{i} c^{s {\\bar t}} c_{j s {\\bar t}} - \\frac{1}{4}u^{i j} N_{i} c^{s {\\bar t}} c_{j s {\\bar t}}+\\frac{1}{2}u^{i j} f c^{k {\\bar l}} c_{i j k {\\bar l}} - \\frac{1}{2}u^{i j} f c^{{\\bar k} m} c^{l {\\bar n}} c_{i {\\bar k} l} c_{j m {\\bar n}}+\\frac{1}{2}u^{i j} f c^{s {\\bar t}} c_{i s {\\bar t}} c^{k {\\bar\\imath}} c_{j k {\\bar\\imath}}$"
      ]
     },
     "metadata": {},
     "output_type": "display_data"
    }
   ],
   "source": [
    "substitute(_, rules_cu);"
   ]
  },
  {
   "cell_type": "code",
   "execution_count": 104,
   "id": "1ec5032b",
   "metadata": {},
   "outputs": [
    {
     "data": {
      "text/markdown": [
       "${}L_{1} = \\frac{1}{4}\\partial_{i}{G_{j}} u^{i j} - \\frac{1}{4}\\partial_{i}{N_{j}} u^{i j}+\\frac{1}{2}\\partial_{i {\\bar\\imath}}{f} c^{i {\\bar\\imath}}+\\frac{1}{2}G_{i} c^{{\\bar\\imath} j} c_{{\\bar\\imath} j k} u^{i k} - \\frac{1}{2}N_{i} c^{{\\bar\\imath} j} c_{{\\bar\\imath} j k} u^{i k}+\\frac{1}{2}c^{i {\\bar\\imath}} c_{i {\\bar\\imath} j k} f u^{j k}+\\frac{1}{2}c^{i {\\bar\\imath}} c^{j {\\bar\\jmath}} c_{i {\\bar\\imath} k} c_{j {\\bar\\jmath} l} f u^{k l} - \\frac{1}{2}c^{i {\\bar\\imath}} c^{j {\\bar\\jmath}} c_{{\\bar\\imath} j k} c_{i {\\bar\\jmath} l} f u^{k l}$"
      ]
     },
     "metadata": {},
     "output_type": "display_data"
    }
   ],
   "source": [
    "tidy(ex)"
   ]
  },
  {
   "cell_type": "code",
   "execution_count": 105,
   "id": "5fd1e881",
   "metadata": {},
   "outputs": [
    {
     "data": {
      "text/markdown": [
       "${}L_{1} = \\frac{1}{4}\\partial_{i}{G_{j}} u^{i j} - \\frac{1}{4}\\partial_{i}{N_{j}} u^{i j}+\\frac{1}{2}\\partial_{i {\\bar\\imath}}{f} c^{i {\\bar\\imath}}+\\frac{1}{2}G_{i} c^{{\\bar\\imath} j} c_{{\\bar\\imath} j k} u^{i k} - \\frac{1}{2}N_{i} c^{{\\bar\\imath} j} c_{{\\bar\\imath} j k} u^{i k}+f \\left(\\frac{1}{2}c^{i {\\bar\\imath}} c_{i {\\bar\\imath} j k} u^{j k}+\\frac{1}{2}c^{i {\\bar\\imath}} c^{j {\\bar\\jmath}} c_{i {\\bar\\imath} k} c_{j {\\bar\\jmath} l} u^{k l} - \\frac{1}{2}c^{i {\\bar\\imath}} c^{j {\\bar\\jmath}} c_{{\\bar\\imath} j k} c_{i {\\bar\\jmath} l} u^{k l}\\right)$"
      ]
     },
     "metadata": {},
     "output_type": "display_data"
    }
   ],
   "source": [
    "factor_out(_, $f$);"
   ]
  },
  {
   "cell_type": "code",
   "execution_count": 106,
   "id": "c42aa5e2",
   "metadata": {},
   "outputs": [
    {
     "data": {
      "text/markdown": [
       "${}L_{1} = \\frac{1}{4}\\partial_{i}{G_{j}} u^{i j} - \\frac{1}{4}\\partial_{i}{N_{j}} u^{i j}+\\frac{1}{2}\\partial_{i {\\bar\\imath}}{f} c^{i {\\bar\\imath}}+\\frac{1}{2}G_{i} c^{{\\bar\\imath} j} c_{{\\bar\\imath} j k} u^{i k} - \\frac{1}{2}N_{i} c^{{\\bar\\imath} j} c_{{\\bar\\imath} j k} u^{i k}+f \\left(\\frac{1}{2}c^{i {\\bar\\imath}} c_{i {\\bar\\imath} j k} u^{j k}+\\frac{1}{2}c^{i {\\bar\\imath}} c^{j {\\bar\\jmath}} c_{i {\\bar\\imath} k} c_{j {\\bar\\jmath} l} u^{k l} - \\frac{1}{2}c^{i {\\bar\\imath}} c^{j {\\bar\\jmath}} c_{{\\bar\\imath} j k} c_{i {\\bar\\jmath} l} u^{k l}\\right)$"
      ]
     },
     "metadata": {},
     "output_type": "display_data"
    }
   ],
   "source": [
    "rule_L1:= @(ex);"
   ]
  },
  {
   "cell_type": "markdown",
   "id": "278f1582",
   "metadata": {},
   "source": [
    "### Term $L_2$"
   ]
  },
  {
   "cell_type": "code",
   "execution_count": 107,
   "id": "79df3b2e",
   "metadata": {},
   "outputs": [
    {
     "data": {
      "text/markdown": [
       "${}L_{2} =  - \\frac{1}{2}u_{j k l} u^{i j} u^{k l} \\partial_{i}\\left(f {\\tilde m}\\right) {{\\tilde m}}^{-1}$"
      ]
     },
     "metadata": {},
     "output_type": "display_data"
    }
   ],
   "source": [
    "ex:= @(defL2);"
   ]
  },
  {
   "cell_type": "code",
   "execution_count": 108,
   "id": "daeb3d86",
   "metadata": {},
   "outputs": [
    {
     "data": {
      "text/markdown": [
       "${}L_{2} =  - \\frac{1}{2}u_{j k l} u^{i j} u^{k l} \\partial_{i}{f} {\\tilde m} {{\\tilde m}}^{-1} - \\frac{1}{2}u_{j k l} u^{i j} u^{k l} f \\partial_{i}{{\\tilde m}} {{\\tilde m}}^{-1}$"
      ]
     },
     "metadata": {},
     "output_type": "display_data"
    }
   ],
   "source": [
    "product_rule(_)\n",
    "distribute(_);"
   ]
  },
  {
   "cell_type": "code",
   "execution_count": 109,
   "id": "0e7a46fa",
   "metadata": {},
   "outputs": [
    {
     "data": {
      "text/markdown": [
       "${}L_{2} =  - \\frac{1}{2}\\left(-c_{{\\bar\\imath} k l} \\partial_{j}{y^{{\\bar\\imath}}}-c_{j {\\bar\\jmath} l} \\partial_{k}{y^{{\\bar\\jmath}}}-c_{j k {\\bar k}} \\partial_{l}{y^{{\\bar k}}}-2h_{j k l}\\right) u^{i j} u^{k l} \\partial_{i}{f} {\\tilde m} {{\\tilde m}}^{-1} - \\frac{1}{2}\\left(-c_{{\\bar\\imath} k l} \\partial_{j}{y^{{\\bar\\imath}}}-c_{j {\\bar\\jmath} l} \\partial_{k}{y^{{\\bar\\jmath}}}-c_{j k {\\bar k}} \\partial_{l}{y^{{\\bar k}}}-2h_{j k l}\\right) u^{i j} u^{k l} f \\partial_{i}{{\\tilde m}} {{\\tilde m}}^{-1}$"
      ]
     },
     "metadata": {},
     "output_type": "display_data"
    }
   ],
   "source": [
    "substitute(_, rule_uijk);"
   ]
  },
  {
   "cell_type": "code",
   "execution_count": 110,
   "id": "4fa531f2",
   "metadata": {},
   "outputs": [
    {
     "data": {
      "text/markdown": [
       "${}L_{2} =  - \\frac{1}{2}\\left(-c_{{\\bar\\imath} k l} \\partial_{j}{y^{{\\bar\\imath}}}-c_{j {\\bar\\jmath} l} \\partial_{k}{y^{{\\bar\\jmath}}}-c_{j k {\\bar k}} \\partial_{l}{y^{{\\bar k}}}-2h_{j k l}\\right) u^{i j} u^{k l} \\left(\\frac{1}{2}G_{i} - \\frac{1}{2}N_{i}\\right) {\\tilde m} {{\\tilde m}}^{-1} - \\frac{1}{2}\\left(-c_{{\\bar\\imath} k l} \\partial_{j}{y^{{\\bar\\imath}}}-c_{j {\\bar\\jmath} l} \\partial_{k}{y^{{\\bar\\jmath}}}-c_{j k {\\bar k}} \\partial_{l}{y^{{\\bar k}}}-2h_{j k l}\\right) u^{i j} u^{k l} f \\partial_{i}{{\\tilde m}} {{\\tilde m}}^{-1}$"
      ]
     },
     "metadata": {},
     "output_type": "display_data"
    }
   ],
   "source": [
    "substitute(_, rule_df);"
   ]
  },
  {
   "cell_type": "code",
   "execution_count": 111,
   "id": "69d2f6dd",
   "metadata": {},
   "outputs": [
    {
     "data": {
      "text/markdown": [
       "${}L_{2} =  - \\frac{1}{2}\\left(-c_{{\\bar\\imath} k l} \\partial_{j}{y^{{\\bar\\imath}}}-c_{j {\\bar\\jmath} l} \\partial_{k}{y^{{\\bar\\jmath}}}-c_{j k {\\bar k}} \\partial_{l}{y^{{\\bar k}}}-2h_{j k l}\\right) u^{i j} u^{k l} \\left(\\frac{1}{2}G_{i} - \\frac{1}{2}N_{i}\\right) {\\tilde m} {{\\tilde m}}^{-1} - \\frac{1}{2}\\left(-c_{{\\bar\\imath} k l} \\partial_{j}{y^{{\\bar\\imath}}}-c_{j {\\bar\\jmath} l} \\partial_{k}{y^{{\\bar\\jmath}}}-c_{j k {\\bar k}} \\partial_{l}{y^{{\\bar k}}}-2h_{j k l}\\right) u^{i j} u^{k l} f c^{s {\\bar t}} c_{i s {\\bar t}} {\\tilde m} {{\\tilde m}}^{-1}$"
      ]
     },
     "metadata": {},
     "output_type": "display_data"
    }
   ],
   "source": [
    "substitute(_, rule_dmt);"
   ]
  },
  {
   "cell_type": "code",
   "execution_count": 112,
   "id": "c28983fb",
   "metadata": {},
   "outputs": [
    {
     "data": {
      "text/markdown": [
       "${}L_{2} =  - \\frac{1}{2}\\left(-c_{{\\bar\\imath} k l} \\partial_{j}{y^{{\\bar\\imath}}}-c_{j {\\bar\\jmath} l} \\partial_{k}{y^{{\\bar\\jmath}}}-c_{j k {\\bar k}} \\partial_{l}{y^{{\\bar k}}}-2h_{j k l}\\right) u^{i j} u^{k l} \\left(\\frac{1}{2}G_{i} - \\frac{1}{2}N_{i}\\right) - \\frac{1}{2}\\left(-c_{{\\bar\\imath} k l} \\partial_{j}{y^{{\\bar\\imath}}}-c_{j {\\bar\\jmath} l} \\partial_{k}{y^{{\\bar\\jmath}}}-c_{j k {\\bar k}} \\partial_{l}{y^{{\\bar k}}}-2h_{j k l}\\right) u^{i j} u^{k l} f c^{s {\\bar t}} c_{i s {\\bar t}}$"
      ]
     },
     "metadata": {},
     "output_type": "display_data"
    }
   ],
   "source": [
    "substitute(_, $mt**{-1} mt = 1$);"
   ]
  },
  {
   "cell_type": "code",
   "execution_count": 113,
   "id": "92fc6878",
   "metadata": {},
   "outputs": [
    {
     "data": {
      "text/markdown": [
       "${}L_{2} = \\frac{1}{2}G_{i} h_{j k l} u^{i j} u^{k l} - \\frac{1}{2}N_{i} h_{j k l} u^{i j} u^{k l}+\\frac{1}{4}G_{i} \\partial_{j}{y^{{\\bar\\imath}}} c_{{\\bar\\imath} k l} u^{i j} u^{k l}+\\frac{1}{2}G_{i} \\partial_{j}{y^{{\\bar\\imath}}} c_{{\\bar\\imath} k l} u^{i k} u^{j l} - \\frac{1}{4}N_{i} \\partial_{j}{y^{{\\bar\\imath}}} c_{{\\bar\\imath} k l} u^{i j} u^{k l} - \\frac{1}{2}N_{i} \\partial_{j}{y^{{\\bar\\imath}}} c_{{\\bar\\imath} k l} u^{i k} u^{j l}+c^{i {\\bar\\imath}} c_{i {\\bar\\imath} j} f h_{k l m} u^{j k} u^{l m}+\\frac{1}{2}\\partial_{i}{y^{{\\bar\\imath}}} c^{j {\\bar\\jmath}} c_{{\\bar\\imath} k l} c_{j {\\bar\\jmath} m} f u^{i k} u^{l m}+\\frac{1}{2}\\partial_{i}{y^{{\\bar\\imath}}} c^{j {\\bar\\jmath}} c_{j {\\bar\\jmath} k} c_{{\\bar\\imath} l m} f u^{i k} u^{l m}+\\frac{1}{2}\\partial_{i}{y^{{\\bar\\imath}}} c^{j {\\bar\\jmath}} c_{j {\\bar\\jmath} k} c_{{\\bar\\imath} l m} f u^{i l} u^{k m}$"
      ]
     },
     "metadata": {},
     "output_type": "display_data"
    }
   ],
   "source": [
    "distribute(_)\n",
    "tidy(_)"
   ]
  },
  {
   "cell_type": "code",
   "execution_count": 114,
   "id": "23797fb0",
   "metadata": {},
   "outputs": [
    {
     "data": {
      "text/markdown": [
       "${}L_{2} = \\frac{1}{2}G_{i} h_{j k l} u^{i j} u^{k l} - \\frac{1}{2}N_{i} h_{j k l} u^{i j} u^{k l} - \\frac{1}{4}G_{i} c^{{\\bar\\imath} i} c_{{\\bar\\imath} k l} u^{k l} - \\frac{1}{2}G_{i} c^{{\\bar\\imath} l} c_{{\\bar\\imath} k l} u^{i k}+\\frac{1}{4}N_{i} c^{{\\bar\\imath} i} c_{{\\bar\\imath} k l} u^{k l}+\\frac{1}{2}N_{i} c^{{\\bar\\imath} l} c_{{\\bar\\imath} k l} u^{i k}+c^{i {\\bar\\imath}} c_{i {\\bar\\imath} j} f h_{k l m} u^{j k} u^{l m} - \\frac{1}{2}c^{{\\bar\\imath} k} c^{j {\\bar\\jmath}} c_{{\\bar\\imath} k l} c_{j {\\bar\\jmath} m} f u^{l m} - \\frac{1}{2}c^{{\\bar\\imath} k} c^{j {\\bar\\jmath}} c_{j {\\bar\\jmath} k} c_{{\\bar\\imath} l m} f u^{l m} - \\frac{1}{2}c^{{\\bar\\imath} l} c^{j {\\bar\\jmath}} c_{j {\\bar\\jmath} k} c_{{\\bar\\imath} l m} f u^{k m}$"
      ]
     },
     "metadata": {},
     "output_type": "display_data"
    }
   ],
   "source": [
    "substitute(_, rules_cu);"
   ]
  },
  {
   "cell_type": "code",
   "execution_count": 115,
   "id": "a5e92b9c",
   "metadata": {},
   "outputs": [
    {
     "data": {
      "text/markdown": [
       "${}L_{2} =  - \\frac{1}{4}G_{i} c^{i {\\bar\\imath}} c_{{\\bar\\imath} j k} u^{j k} - \\frac{1}{2}G_{i} c^{{\\bar\\imath} j} c_{{\\bar\\imath} j k} u^{i k}+\\frac{1}{2}G_{i} h_{j k l} u^{i j} u^{k l}+\\frac{1}{4}N_{i} c^{i {\\bar\\imath}} c_{{\\bar\\imath} j k} u^{j k}+\\frac{1}{2}N_{i} c^{{\\bar\\imath} j} c_{{\\bar\\imath} j k} u^{i k} - \\frac{1}{2}N_{i} h_{j k l} u^{i j} u^{k l} - \\frac{1}{2}c^{i {\\bar\\imath}} c^{j {\\bar\\jmath}} c_{i {\\bar\\imath} j} c_{{\\bar\\jmath} k l} f u^{k l}-c^{i {\\bar\\imath}} c^{j {\\bar\\jmath}} c_{i {\\bar\\imath} k} c_{j {\\bar\\jmath} l} f u^{k l}+c^{i {\\bar\\imath}} c_{i {\\bar\\imath} j} f h_{k l m} u^{j k} u^{l m}$"
      ]
     },
     "metadata": {},
     "output_type": "display_data"
    }
   ],
   "source": [
    "tidy(_)"
   ]
  },
  {
   "cell_type": "code",
   "execution_count": 116,
   "id": "ec95c1d3",
   "metadata": {},
   "outputs": [
    {
     "data": {
      "text/markdown": [
       "${}L_{2} =  - \\frac{1}{4}G_{i} c^{i {\\bar\\imath}} c_{{\\bar\\imath} j k} u^{j k} - \\frac{1}{2}G_{i} c^{{\\bar\\imath} j} c_{{\\bar\\imath} j k} u^{i k}+\\frac{1}{2}G_{i} h_{j k l} u^{i j} u^{k l}+\\frac{1}{4}N_{i} c^{i {\\bar\\imath}} c_{{\\bar\\imath} j k} u^{j k}+\\frac{1}{2}N_{i} c^{{\\bar\\imath} j} c_{{\\bar\\imath} j k} u^{i k} - \\frac{1}{2}N_{i} h_{j k l} u^{i j} u^{k l}+f \\left( - \\frac{1}{2}c^{i {\\bar\\imath}} c^{j {\\bar\\jmath}} c_{i {\\bar\\imath} j} c_{{\\bar\\jmath} k l} u^{k l}-c^{i {\\bar\\imath}} c^{j {\\bar\\jmath}} c_{i {\\bar\\imath} k} c_{j {\\bar\\jmath} l} u^{k l}+c^{i {\\bar\\imath}} c_{i {\\bar\\imath} j} h_{k l m} u^{j k} u^{l m}\\right)$"
      ]
     },
     "metadata": {},
     "output_type": "display_data"
    }
   ],
   "source": [
    "factor_out(_, $f$);"
   ]
  },
  {
   "cell_type": "code",
   "execution_count": 117,
   "id": "c7d950a6",
   "metadata": {},
   "outputs": [
    {
     "data": {
      "text/markdown": [
       "${}L_{2} =  - \\frac{1}{4}G_{i} c^{i {\\bar\\imath}} c_{{\\bar\\imath} j k} u^{j k} - \\frac{1}{2}G_{i} c^{{\\bar\\imath} j} c_{{\\bar\\imath} j k} u^{i k}+\\frac{1}{2}G_{i} h_{j k l} u^{i j} u^{k l}+\\frac{1}{4}N_{i} c^{i {\\bar\\imath}} c_{{\\bar\\imath} j k} u^{j k}+\\frac{1}{2}N_{i} c^{{\\bar\\imath} j} c_{{\\bar\\imath} j k} u^{i k} - \\frac{1}{2}N_{i} h_{j k l} u^{i j} u^{k l}+f \\left( - \\frac{1}{2}c^{i {\\bar\\imath}} c^{j {\\bar\\jmath}} c_{i {\\bar\\imath} j} c_{{\\bar\\jmath} k l} u^{k l}-c^{i {\\bar\\imath}} c^{j {\\bar\\jmath}} c_{i {\\bar\\imath} k} c_{j {\\bar\\jmath} l} u^{k l}+c^{i {\\bar\\imath}} c_{i {\\bar\\imath} j} h_{k l m} u^{j k} u^{l m}\\right)$"
      ]
     },
     "metadata": {},
     "output_type": "display_data"
    }
   ],
   "source": [
    "rule_L2:= @(ex);"
   ]
  },
  {
   "cell_type": "markdown",
   "id": "e8186f90",
   "metadata": {},
   "source": [
    "### Term $L_3$"
   ]
  },
  {
   "cell_type": "code",
   "execution_count": 118,
   "id": "43beeba1",
   "metadata": {},
   "outputs": [
    {
     "data": {
      "text/markdown": [
       "${}L_{3} = \\frac{1}{8}f u_{i j k} u_{l m n} u^{i j} u^{k l} u^{m n}$"
      ]
     },
     "metadata": {},
     "output_type": "display_data"
    }
   ],
   "source": [
    "ex:= @(defL3);"
   ]
  },
  {
   "cell_type": "code",
   "execution_count": 119,
   "id": "76e14b62",
   "metadata": {},
   "outputs": [
    {
     "data": {
      "text/markdown": [
       "${}L_{3} = \\frac{1}{8}f \\left(-c_{{\\bar\\imath} j k} \\partial_{i}{y^{{\\bar\\imath}}}-c_{i {\\bar\\jmath} k} \\partial_{j}{y^{{\\bar\\jmath}}}-c_{i j {\\bar k}} \\partial_{k}{y^{{\\bar k}}}-2h_{i j k}\\right) \\left(-c_{{\\bar l} m n} \\partial_{l}{y^{{\\bar l}}}-c_{l {\\bar m} n} \\partial_{m}{y^{{\\bar m}}}-c_{l m {\\bar n}} \\partial_{n}{y^{{\\bar n}}}-2h_{l m n}\\right) u^{i j} u^{k l} u^{m n}$"
      ]
     },
     "metadata": {},
     "output_type": "display_data"
    }
   ],
   "source": [
    "substitute(_, rule_uijk);"
   ]
  },
  {
   "cell_type": "code",
   "execution_count": 120,
   "id": "77fdedb4",
   "metadata": {},
   "outputs": [
    {
     "data": {
      "text/markdown": [
       "${}L_{3} = \\frac{1}{2}f h_{i j k} h_{l m n} u^{i j} u^{k l} u^{m n}+\\partial_{i}{y^{{\\bar\\imath}}} c_{{\\bar\\imath} j k} f h_{l m n} u^{i j} u^{k l} u^{m n}+\\frac{1}{2}\\partial_{i}{y^{{\\bar\\imath}}} c_{{\\bar\\imath} j k} f h_{l m n} u^{i l} u^{j k} u^{m n}+\\frac{1}{8}\\partial_{i}{y^{{\\bar\\imath}}} \\partial_{j}{y^{{\\bar\\jmath}}} c_{{\\bar\\imath} k l} c_{{\\bar\\jmath} m n} f u^{i j} u^{k l} u^{m n}+\\frac{3}{8}\\partial_{i}{y^{{\\bar\\imath}}} \\partial_{j}{y^{{\\bar\\jmath}}} c_{{\\bar\\imath} k l} c_{{\\bar\\jmath} m n} f u^{i k} u^{j l} u^{m n}+\\frac{1}{2}\\partial_{i}{y^{{\\bar\\imath}}} \\partial_{j}{y^{{\\bar\\jmath}}} c_{{\\bar\\imath} k l} c_{{\\bar\\jmath} m n} f u^{i k} u^{j m} u^{l n}+\\frac{1}{8}\\partial_{i}{y^{{\\bar\\imath}}} \\partial_{j}{y^{{\\bar\\jmath}}} c_{{\\bar\\imath} k l} c_{{\\bar\\jmath} m n} f u^{i m} u^{j n} u^{k l}$"
      ]
     },
     "metadata": {},
     "output_type": "display_data"
    }
   ],
   "source": [
    "distribute(_)\n",
    "tidy(_)"
   ]
  },
  {
   "cell_type": "code",
   "execution_count": 121,
   "id": "de02cafc",
   "metadata": {},
   "outputs": [
    {
     "data": {
      "text/markdown": [
       "${}L_{3} = \\frac{1}{2}f h_{i j k} h_{l m n} u^{i j} u^{k l} u^{m n}-c^{{\\bar\\imath} j} c_{{\\bar\\imath} j k} f h_{l m n} u^{k l} u^{m n} - \\frac{1}{2}c^{{\\bar\\imath} l} c_{{\\bar\\imath} j k} f h_{l m n} u^{j k} u^{m n}+\\frac{1}{8}u^{{\\bar\\jmath} {\\bar\\imath}} c_{{\\bar\\imath} k l} c_{{\\bar\\jmath} m n} f u^{k l} u^{m n}+\\frac{3}{8}c^{{\\bar\\imath} k} c^{{\\bar\\jmath} l} c_{{\\bar\\imath} k l} c_{{\\bar\\jmath} m n} f u^{m n}+\\frac{1}{2}c^{{\\bar\\imath} k} c^{{\\bar\\jmath} m} c_{{\\bar\\imath} k l} c_{{\\bar\\jmath} m n} f u^{l n}+\\frac{1}{8}c^{{\\bar\\imath} m} c^{{\\bar\\jmath} n} c_{{\\bar\\imath} k l} c_{{\\bar\\jmath} m n} f u^{k l}$"
      ]
     },
     "metadata": {},
     "output_type": "display_data"
    }
   ],
   "source": [
    "substitute(_, rules_cu, repeat=True);"
   ]
  },
  {
   "cell_type": "code",
   "execution_count": 122,
   "id": "2edb934a",
   "metadata": {},
   "outputs": [
    {
     "data": {
      "text/markdown": [
       "${}L_{3} = \\frac{1}{2}c^{i {\\bar\\imath}} c^{j {\\bar\\jmath}} c_{i {\\bar\\imath} j} c_{{\\bar\\jmath} k l} f u^{k l}+\\frac{1}{2}c^{i {\\bar\\imath}} c^{j {\\bar\\jmath}} c_{i {\\bar\\imath} k} c_{j {\\bar\\jmath} l} f u^{k l}-c^{i {\\bar\\imath}} c_{i {\\bar\\imath} j} f h_{k l m} u^{j k} u^{l m} - \\frac{1}{2}c^{i {\\bar\\imath}} c_{{\\bar\\imath} j k} f h_{i l m} u^{j k} u^{l m}+\\frac{1}{8}c_{i {\\bar\\imath} j} c_{{\\bar\\jmath} k l} f u^{i j} u^{k l} u^{{\\bar\\imath} {\\bar\\jmath}}+\\frac{1}{2}f h_{i j k} h_{l m n} u^{i j} u^{k l} u^{m n}$"
      ]
     },
     "metadata": {},
     "output_type": "display_data"
    }
   ],
   "source": [
    "tidy(_)"
   ]
  },
  {
   "cell_type": "code",
   "execution_count": 123,
   "id": "20c9ac7a",
   "metadata": {},
   "outputs": [
    {
     "data": {
      "text/markdown": [
       "${}L_{3} = f \\left(\\frac{1}{2}c^{i {\\bar\\imath}} c^{j {\\bar\\jmath}} c_{i {\\bar\\imath} j} c_{{\\bar\\jmath} k l} u^{k l}+\\frac{1}{2}c^{i {\\bar\\imath}} c^{j {\\bar\\jmath}} c_{i {\\bar\\imath} k} c_{j {\\bar\\jmath} l} u^{k l}-c^{i {\\bar\\imath}} c_{i {\\bar\\imath} j} h_{k l m} u^{j k} u^{l m} - \\frac{1}{2}c^{i {\\bar\\imath}} c_{{\\bar\\imath} j k} h_{i l m} u^{j k} u^{l m}+\\frac{1}{8}c_{i {\\bar\\imath} j} c_{{\\bar\\jmath} k l} u^{i j} u^{k l} u^{{\\bar\\imath} {\\bar\\jmath}}+\\frac{1}{2}h_{i j k} h_{l m n} u^{i j} u^{k l} u^{m n}\\right)$"
      ]
     },
     "metadata": {},
     "output_type": "display_data"
    }
   ],
   "source": [
    "factor_out(_, $f$);"
   ]
  },
  {
   "cell_type": "code",
   "execution_count": 124,
   "id": "65114c07",
   "metadata": {},
   "outputs": [
    {
     "data": {
      "text/markdown": [
       "${}L_{3} = f \\left(\\frac{1}{2}c^{i {\\bar\\imath}} c^{j {\\bar\\jmath}} c_{i {\\bar\\imath} j} c_{{\\bar\\jmath} k l} u^{k l}+\\frac{1}{2}c^{i {\\bar\\imath}} c^{j {\\bar\\jmath}} c_{i {\\bar\\imath} k} c_{j {\\bar\\jmath} l} u^{k l}-c^{i {\\bar\\imath}} c_{i {\\bar\\imath} j} h_{k l m} u^{j k} u^{l m} - \\frac{1}{2}c^{i {\\bar\\imath}} c_{{\\bar\\imath} j k} h_{i l m} u^{j k} u^{l m}+\\frac{1}{8}c_{i {\\bar\\imath} j} c_{{\\bar\\jmath} k l} u^{i j} u^{k l} u^{{\\bar\\imath} {\\bar\\jmath}}+\\frac{1}{2}h_{i j k} h_{l m n} u^{i j} u^{k l} u^{m n}\\right)$"
      ]
     },
     "metadata": {},
     "output_type": "display_data"
    }
   ],
   "source": [
    "rule_L3:= @(ex);"
   ]
  },
  {
   "cell_type": "markdown",
   "id": "4afca910",
   "metadata": {},
   "source": [
    "### Term $L_4$"
   ]
  },
  {
   "cell_type": "code",
   "execution_count": 125,
   "id": "8918bd1f",
   "metadata": {},
   "outputs": [
    {
     "data": {
      "text/markdown": [
       "${}L_{4} = \\frac{1}{12}f u_{i j k} u_{l m n} u^{i l} u^{j m} u^{k n}$"
      ]
     },
     "metadata": {},
     "output_type": "display_data"
    }
   ],
   "source": [
    "ex:= @(defL4);"
   ]
  },
  {
   "cell_type": "code",
   "execution_count": 126,
   "id": "0a97e82d",
   "metadata": {},
   "outputs": [
    {
     "data": {
      "text/markdown": [
       "${}L_{4} = \\frac{1}{12}f \\left(-c_{{\\bar\\imath} j k} \\partial_{i}{y^{{\\bar\\imath}}}-c_{i {\\bar\\jmath} k} \\partial_{j}{y^{{\\bar\\jmath}}}-c_{i j {\\bar k}} \\partial_{k}{y^{{\\bar k}}}-2h_{i j k}\\right) \\left(-c_{{\\bar l} m n} \\partial_{l}{y^{{\\bar l}}}-c_{l {\\bar m} n} \\partial_{m}{y^{{\\bar m}}}-c_{l m {\\bar n}} \\partial_{n}{y^{{\\bar n}}}-2h_{l m n}\\right) u^{i l} u^{j m} u^{k n}$"
      ]
     },
     "metadata": {},
     "output_type": "display_data"
    }
   ],
   "source": [
    "substitute(_, rule_uijk);"
   ]
  },
  {
   "cell_type": "code",
   "execution_count": 127,
   "id": "18c0868d",
   "metadata": {},
   "outputs": [
    {
     "data": {
      "text/markdown": [
       "${}L_{4} = \\frac{1}{3}f h_{i j k} h_{l m n} u^{i l} u^{j m} u^{k n}+\\partial_{i}{y^{{\\bar\\imath}}} c_{{\\bar\\imath} j k} f h_{l m n} u^{i l} u^{j m} u^{k n}+\\frac{1}{4}\\partial_{i}{y^{{\\bar\\imath}}} \\partial_{j}{y^{{\\bar\\jmath}}} c_{{\\bar\\imath} k l} c_{{\\bar\\jmath} m n} f u^{i j} u^{k m} u^{l n}+\\frac{1}{2}\\partial_{i}{y^{{\\bar\\imath}}} \\partial_{j}{y^{{\\bar\\jmath}}} c_{{\\bar\\imath} k l} c_{{\\bar\\jmath} m n} f u^{i m} u^{j k} u^{l n}$"
      ]
     },
     "metadata": {},
     "output_type": "display_data"
    }
   ],
   "source": [
    "distribute(_)\n",
    "tidy(_)"
   ]
  },
  {
   "cell_type": "code",
   "execution_count": 128,
   "id": "90194a69",
   "metadata": {},
   "outputs": [
    {
     "data": {
      "text/markdown": [
       "${}L_{4} = \\frac{1}{3}f h_{i j k} h_{l m n} u^{i l} u^{j m} u^{k n}-c^{{\\bar\\imath} l} c_{{\\bar\\imath} j k} f h_{l m n} u^{j m} u^{k n}+\\frac{1}{4}u^{{\\bar\\jmath} {\\bar\\imath}} c_{{\\bar\\imath} k l} c_{{\\bar\\jmath} m n} f u^{k m} u^{l n}+\\frac{1}{2}c^{{\\bar\\imath} m} c^{{\\bar\\jmath} k} c_{{\\bar\\imath} k l} c_{{\\bar\\jmath} m n} f u^{l n}$"
      ]
     },
     "metadata": {},
     "output_type": "display_data"
    }
   ],
   "source": [
    "substitute(_, rules_cu, repeat=True);"
   ]
  },
  {
   "cell_type": "code",
   "execution_count": 129,
   "id": "20d36dec",
   "metadata": {},
   "outputs": [
    {
     "data": {
      "text/markdown": [
       "${}L_{4} = \\frac{1}{2}c^{i {\\bar\\imath}} c^{j {\\bar\\jmath}} c_{i {\\bar\\jmath} k} c_{{\\bar\\imath} j l} f u^{k l}-c^{i {\\bar\\imath}} c_{{\\bar\\imath} j k} f h_{i l m} u^{j l} u^{k m}+\\frac{1}{4}c_{i {\\bar\\imath} j} c_{{\\bar\\jmath} k l} f u^{i k} u^{j l} u^{{\\bar\\imath} {\\bar\\jmath}}+\\frac{1}{3}f h_{i j k} h_{l m n} u^{i l} u^{j m} u^{k n}$"
      ]
     },
     "metadata": {},
     "output_type": "display_data"
    }
   ],
   "source": [
    "tidy(_)"
   ]
  },
  {
   "cell_type": "code",
   "execution_count": 130,
   "id": "d00d7b05",
   "metadata": {},
   "outputs": [
    {
     "data": {
      "text/markdown": [
       "${}L_{4} = f \\left(\\frac{1}{2}c^{i {\\bar\\imath}} c^{j {\\bar\\jmath}} c_{i {\\bar\\jmath} k} c_{{\\bar\\imath} j l} u^{k l}-c^{i {\\bar\\imath}} c_{{\\bar\\imath} j k} h_{i l m} u^{j l} u^{k m}+\\frac{1}{4}c_{i {\\bar\\imath} j} c_{{\\bar\\jmath} k l} u^{i k} u^{j l} u^{{\\bar\\imath} {\\bar\\jmath}}+\\frac{1}{3}h_{i j k} h_{l m n} u^{i l} u^{j m} u^{k n}\\right)$"
      ]
     },
     "metadata": {},
     "output_type": "display_data"
    }
   ],
   "source": [
    "factor_out(_, $f$);"
   ]
  },
  {
   "cell_type": "code",
   "execution_count": 131,
   "id": "d9431204",
   "metadata": {},
   "outputs": [
    {
     "data": {
      "text/markdown": [
       "${}L_{4} = f \\left(\\frac{1}{2}c^{i {\\bar\\imath}} c^{j {\\bar\\jmath}} c_{i {\\bar\\jmath} k} c_{{\\bar\\imath} j l} u^{k l}-c^{i {\\bar\\imath}} c_{{\\bar\\imath} j k} h_{i l m} u^{j l} u^{k m}+\\frac{1}{4}c_{i {\\bar\\imath} j} c_{{\\bar\\jmath} k l} u^{i k} u^{j l} u^{{\\bar\\imath} {\\bar\\jmath}}+\\frac{1}{3}h_{i j k} h_{l m n} u^{i l} u^{j m} u^{k n}\\right)$"
      ]
     },
     "metadata": {},
     "output_type": "display_data"
    }
   ],
   "source": [
    "rule_L4:= @(ex);"
   ]
  },
  {
   "cell_type": "markdown",
   "id": "0b270b91",
   "metadata": {},
   "source": [
    "### Term $L_5$"
   ]
  },
  {
   "cell_type": "code",
   "execution_count": 132,
   "id": "16136103",
   "metadata": {},
   "outputs": [
    {
     "data": {
      "text/markdown": [
       "${}L_{5} =  - \\frac{1}{8}f u_{i j k l} u^{i j} u^{k l}$"
      ]
     },
     "metadata": {},
     "output_type": "display_data"
    }
   ],
   "source": [
    "ex:= @(defL5);"
   ]
  },
  {
   "cell_type": "code",
   "execution_count": 133,
   "id": "968ff4e1",
   "metadata": {},
   "outputs": [
    {
     "data": {
      "text/markdown": [
       "${}L_{5} =  - \\frac{1}{8}f \\left(-2\\partial_{l}{h_{i j k}}-\\partial_{i}{y^{{\\bar\\imath}}} c_{j k l {\\bar\\imath}}-\\partial_{j}{y^{{\\bar\\imath}}} c_{i k l {\\bar\\imath}}-\\partial_{k}{y^{{\\bar\\imath}}} c_{i j l {\\bar\\imath}}-\\partial_{l}{y^{{\\bar\\imath}}} c_{i j k {\\bar\\imath}}-\\partial_{i}{y^{{\\bar\\imath}}} \\partial_{l}{y^{{\\bar\\jmath}}} c_{j k {\\bar\\imath} {\\bar\\jmath}}-\\partial_{j}{y^{{\\bar\\imath}}} \\partial_{l}{y^{{\\bar\\jmath}}} c_{i k {\\bar\\imath} {\\bar\\jmath}}-\\partial_{k}{y^{{\\bar\\imath}}} \\partial_{l}{y^{{\\bar\\jmath}}} c_{i j {\\bar\\imath} {\\bar\\jmath}}-2c^{{\\bar\\imath} m} c_{i j {\\bar\\imath}} h_{k l m}-2c^{{\\bar\\imath} m} c_{i k {\\bar\\imath}} h_{j l m}-2c^{{\\bar\\imath} m} c_{j k {\\bar\\imath}} h_{i l m}+c_{i j {\\bar\\imath}} c_{k l {\\bar\\jmath}} u^{{\\bar\\imath} {\\bar\\jmath}}+c_{i k {\\bar\\imath}} c_{j l {\\bar\\jmath}} u^{{\\bar\\imath} {\\bar\\jmath}}+c_{i l {\\bar\\imath}} c_{j k {\\bar\\jmath}} u^{{\\bar\\jmath} {\\bar\\imath}}+\\partial_{i}{y^{{\\bar\\imath}}} \\partial_{l}{y^{{\\bar\\jmath}}} c^{{\\bar k} m} c_{j k {\\bar k}} c_{{\\bar\\imath} {\\bar\\jmath} m}+\\partial_{j}{y^{{\\bar\\imath}}} \\partial_{l}{y^{{\\bar\\jmath}}} c^{{\\bar k} m} c_{i k {\\bar k}} c_{{\\bar\\imath} {\\bar\\jmath} m}+\\partial_{k}{y^{{\\bar\\imath}}} \\partial_{l}{y^{{\\bar\\jmath}}} c^{{\\bar k} m} c_{i j {\\bar k}} c_{{\\bar\\imath} {\\bar\\jmath} m}\\right) u^{i j} u^{k l}$"
      ]
     },
     "metadata": {},
     "output_type": "display_data"
    }
   ],
   "source": [
    "substitute(_, rule_uijkl);"
   ]
  },
  {
   "cell_type": "code",
   "execution_count": 134,
   "id": "3c575cf2",
   "metadata": {},
   "outputs": [
    {
     "data": {
      "text/markdown": [
       "${}L_{5} = \\frac{1}{4}f \\partial_{l}{h_{i j k}} u^{i j} u^{k l}+\\frac{1}{8}f \\partial_{i}{y^{{\\bar\\imath}}} c_{j k l {\\bar\\imath}} u^{i j} u^{k l}+\\frac{1}{8}f \\partial_{j}{y^{{\\bar\\imath}}} c_{i k l {\\bar\\imath}} u^{i j} u^{k l}+\\frac{1}{8}f \\partial_{k}{y^{{\\bar\\imath}}} c_{i j l {\\bar\\imath}} u^{i j} u^{k l}+\\frac{1}{8}f \\partial_{l}{y^{{\\bar\\imath}}} c_{i j k {\\bar\\imath}} u^{i j} u^{k l}+\\frac{1}{8}f \\partial_{i}{y^{{\\bar\\imath}}} \\partial_{l}{y^{{\\bar\\jmath}}} c_{j k {\\bar\\imath} {\\bar\\jmath}} u^{i j} u^{k l}+\\frac{1}{8}f \\partial_{j}{y^{{\\bar\\imath}}} \\partial_{l}{y^{{\\bar\\jmath}}} c_{i k {\\bar\\imath} {\\bar\\jmath}} u^{i j} u^{k l}+\\frac{1}{8}f \\partial_{k}{y^{{\\bar\\imath}}} \\partial_{l}{y^{{\\bar\\jmath}}} c_{i j {\\bar\\imath} {\\bar\\jmath}} u^{i j} u^{k l}+\\frac{1}{4}f c^{{\\bar\\imath} m} c_{i j {\\bar\\imath}} h_{k l m} u^{i j} u^{k l}+\\frac{1}{4}f c^{{\\bar\\imath} m} c_{i k {\\bar\\imath}} h_{j l m} u^{i j} u^{k l}+\\frac{1}{4}f c^{{\\bar\\imath} m} c_{j k {\\bar\\imath}} h_{i l m} u^{i j} u^{k l} - \\frac{1}{8}f c_{i j {\\bar\\imath}} c_{k l {\\bar\\jmath}} u^{{\\bar\\imath} {\\bar\\jmath}} u^{i j} u^{k l} - \\frac{1}{8}f c_{i k {\\bar\\imath}} c_{j l {\\bar\\jmath}} u^{{\\bar\\imath} {\\bar\\jmath}} u^{i j} u^{k l} - \\frac{1}{8}f c_{i l {\\bar\\imath}} c_{j k {\\bar\\jmath}} u^{{\\bar\\jmath} {\\bar\\imath}} u^{i j} u^{k l} - \\frac{1}{8}f \\partial_{i}{y^{{\\bar\\imath}}} \\partial_{l}{y^{{\\bar\\jmath}}} c^{{\\bar k} m} c_{j k {\\bar k}} c_{{\\bar\\imath} {\\bar\\jmath} m} u^{i j} u^{k l} - \\frac{1}{8}f \\partial_{j}{y^{{\\bar\\imath}}} \\partial_{l}{y^{{\\bar\\jmath}}} c^{{\\bar k} m} c_{i k {\\bar k}} c_{{\\bar\\imath} {\\bar\\jmath} m} u^{i j} u^{k l} - \\frac{1}{8}f \\partial_{k}{y^{{\\bar\\imath}}} \\partial_{l}{y^{{\\bar\\jmath}}} c^{{\\bar k} m} c_{i j {\\bar k}} c_{{\\bar\\imath} {\\bar\\jmath} m} u^{i j} u^{k l}$"
      ]
     },
     "metadata": {},
     "output_type": "display_data"
    }
   ],
   "source": [
    "distribute(_);"
   ]
  },
  {
   "cell_type": "code",
   "execution_count": 135,
   "id": "6bdb571d",
   "metadata": {},
   "outputs": [
    {
     "data": {
      "text/markdown": [
       "${}L_{5} = \\frac{1}{4}f \\partial_{l}{h_{i j k}} u^{i j} u^{k l} - \\frac{1}{8}f c^{{\\bar\\imath} j} c_{j k l {\\bar\\imath}} u^{k l} - \\frac{1}{8}f c^{{\\bar\\imath} i} c_{i k l {\\bar\\imath}} u^{k l} - \\frac{1}{8}f c^{{\\bar\\imath} l} c_{i j l {\\bar\\imath}} u^{i j} - \\frac{1}{8}f c^{{\\bar\\imath} k} c_{i j k {\\bar\\imath}} u^{i j}+\\frac{1}{8}f c^{{\\bar\\imath} j} c^{{\\bar\\jmath} k} c_{j k {\\bar\\imath} {\\bar\\jmath}}+\\frac{1}{8}f c^{{\\bar\\imath} i} c^{{\\bar\\jmath} k} c_{i k {\\bar\\imath} {\\bar\\jmath}}+\\frac{1}{8}f u^{{\\bar\\jmath} {\\bar\\imath}} c_{i j {\\bar\\imath} {\\bar\\jmath}} u^{i j}+\\frac{1}{4}f c^{{\\bar\\imath} m} c_{i j {\\bar\\imath}} h_{k l m} u^{i j} u^{k l}+\\frac{1}{4}f c^{{\\bar\\imath} m} c_{i k {\\bar\\imath}} h_{j l m} u^{i j} u^{k l}+\\frac{1}{4}f c^{{\\bar\\imath} m} c_{j k {\\bar\\imath}} h_{i l m} u^{i j} u^{k l} - \\frac{1}{8}f c_{i j {\\bar\\imath}} c_{k l {\\bar\\jmath}} u^{{\\bar\\imath} {\\bar\\jmath}} u^{i j} u^{k l} - \\frac{1}{8}f c_{i k {\\bar\\imath}} c_{j l {\\bar\\jmath}} u^{{\\bar\\imath} {\\bar\\jmath}} u^{i j} u^{k l} - \\frac{1}{8}f c_{i l {\\bar\\imath}} c_{j k {\\bar\\jmath}} u^{{\\bar\\jmath} {\\bar\\imath}} u^{i j} u^{k l} - \\frac{1}{8}f c^{{\\bar\\imath} j} c^{{\\bar\\jmath} k} c^{{\\bar k} m} c_{j k {\\bar k}} c_{{\\bar\\imath} {\\bar\\jmath} m} - \\frac{1}{8}f c^{{\\bar\\imath} i} c^{{\\bar\\jmath} k} c^{{\\bar k} m} c_{i k {\\bar k}} c_{{\\bar\\imath} {\\bar\\jmath} m} - \\frac{1}{8}f u^{{\\bar\\jmath} {\\bar\\imath}} c^{{\\bar k} m} c_{i j {\\bar k}} c_{{\\bar\\imath} {\\bar\\jmath} m} u^{i j}$"
      ]
     },
     "metadata": {},
     "output_type": "display_data"
    }
   ],
   "source": [
    "substitute(_, rules_cu, repeat=True);"
   ]
  },
  {
   "cell_type": "code",
   "execution_count": 136,
   "id": "47ee2077",
   "metadata": {},
   "outputs": [
    {
     "data": {
      "text/markdown": [
       "${}L_{5} = \\frac{1}{4}\\partial_{i}{h_{j k l}} f u^{i j} u^{k l}+\\frac{1}{4}c^{i {\\bar\\imath}} c^{j {\\bar\\jmath}} c_{i {\\bar\\imath} j {\\bar\\jmath}} f - \\frac{1}{2}c^{i {\\bar\\imath}} c_{i {\\bar\\imath} j k} f u^{j k}+\\frac{1}{8}c_{i {\\bar\\imath} j {\\bar\\jmath}} f u^{i j} u^{{\\bar\\imath} {\\bar\\jmath}} - \\frac{1}{4}c^{i {\\bar\\imath}} c^{j {\\bar\\jmath}} c^{k {\\bar k}} c_{i j {\\bar k}} c_{{\\bar\\imath} {\\bar\\jmath} k} f - \\frac{1}{8}c^{i {\\bar\\imath}} c_{{\\bar\\imath} j k} c_{i {\\bar\\jmath} {\\bar k}} f u^{j k} u^{{\\bar\\jmath} {\\bar k}}+\\frac{1}{4}c^{i {\\bar\\imath}} c_{{\\bar\\imath} j k} f h_{i l m} u^{j k} u^{l m}+\\frac{1}{2}c^{i {\\bar\\imath}} c_{{\\bar\\imath} j k} f h_{i l m} u^{j l} u^{k m} - \\frac{1}{8}c_{i {\\bar\\imath} j} c_{{\\bar\\jmath} k l} f u^{i j} u^{k l} u^{{\\bar\\imath} {\\bar\\jmath}} - \\frac{1}{4}c_{i {\\bar\\imath} j} c_{{\\bar\\jmath} k l} f u^{i k} u^{j l} u^{{\\bar\\imath} {\\bar\\jmath}}$"
      ]
     },
     "metadata": {},
     "output_type": "display_data"
    }
   ],
   "source": [
    "tidy(_)"
   ]
  },
  {
   "cell_type": "code",
   "execution_count": 137,
   "id": "cf353cd1",
   "metadata": {},
   "outputs": [
    {
     "data": {
      "text/markdown": [
       "${}L_{5} = f \\left(\\frac{1}{4}\\partial_{i}{h_{j k l}} u^{i j} u^{k l}+\\frac{1}{4}c^{i {\\bar\\imath}} c^{j {\\bar\\jmath}} c_{i {\\bar\\imath} j {\\bar\\jmath}} - \\frac{1}{2}c^{i {\\bar\\imath}} c_{i {\\bar\\imath} j k} u^{j k}+\\frac{1}{8}c_{i {\\bar\\imath} j {\\bar\\jmath}} u^{i j} u^{{\\bar\\imath} {\\bar\\jmath}} - \\frac{1}{4}c^{i {\\bar\\imath}} c^{j {\\bar\\jmath}} c^{k {\\bar k}} c_{i j {\\bar k}} c_{{\\bar\\imath} {\\bar\\jmath} k} - \\frac{1}{8}c^{i {\\bar\\imath}} c_{{\\bar\\imath} j k} c_{i {\\bar\\jmath} {\\bar k}} u^{j k} u^{{\\bar\\jmath} {\\bar k}}+\\frac{1}{4}c^{i {\\bar\\imath}} c_{{\\bar\\imath} j k} h_{i l m} u^{j k} u^{l m}+\\frac{1}{2}c^{i {\\bar\\imath}} c_{{\\bar\\imath} j k} h_{i l m} u^{j l} u^{k m} - \\frac{1}{8}c_{i {\\bar\\imath} j} c_{{\\bar\\jmath} k l} u^{i j} u^{k l} u^{{\\bar\\imath} {\\bar\\jmath}} - \\frac{1}{4}c_{i {\\bar\\imath} j} c_{{\\bar\\jmath} k l} u^{i k} u^{j l} u^{{\\bar\\imath} {\\bar\\jmath}}\\right)$"
      ]
     },
     "metadata": {},
     "output_type": "display_data"
    }
   ],
   "source": [
    "factor_out(_, $f$);"
   ]
  },
  {
   "cell_type": "code",
   "execution_count": 138,
   "id": "481365be",
   "metadata": {},
   "outputs": [
    {
     "data": {
      "text/markdown": [
       "${}L_{5} = f \\left(\\frac{1}{4}\\partial_{i}{h_{j k l}} u^{i j} u^{k l}+\\frac{1}{4}c^{i {\\bar\\imath}} c^{j {\\bar\\jmath}} c_{i {\\bar\\imath} j {\\bar\\jmath}} - \\frac{1}{2}c^{i {\\bar\\imath}} c_{i {\\bar\\imath} j k} u^{j k}+\\frac{1}{8}c_{i {\\bar\\imath} j {\\bar\\jmath}} u^{i j} u^{{\\bar\\imath} {\\bar\\jmath}} - \\frac{1}{4}c^{i {\\bar\\imath}} c^{j {\\bar\\jmath}} c^{k {\\bar k}} c_{i j {\\bar k}} c_{{\\bar\\imath} {\\bar\\jmath} k} - \\frac{1}{8}c^{i {\\bar\\imath}} c_{{\\bar\\imath} j k} c_{i {\\bar\\jmath} {\\bar k}} u^{j k} u^{{\\bar\\jmath} {\\bar k}}+\\frac{1}{4}c^{i {\\bar\\imath}} c_{{\\bar\\imath} j k} h_{i l m} u^{j k} u^{l m}+\\frac{1}{2}c^{i {\\bar\\imath}} c_{{\\bar\\imath} j k} h_{i l m} u^{j l} u^{k m} - \\frac{1}{8}c_{i {\\bar\\imath} j} c_{{\\bar\\jmath} k l} u^{i j} u^{k l} u^{{\\bar\\imath} {\\bar\\jmath}} - \\frac{1}{4}c_{i {\\bar\\imath} j} c_{{\\bar\\jmath} k l} u^{i k} u^{j l} u^{{\\bar\\imath} {\\bar\\jmath}}\\right)$"
      ]
     },
     "metadata": {},
     "output_type": "display_data"
    }
   ],
   "source": [
    "rule_L5:= @(ex);"
   ]
  },
  {
   "cell_type": "markdown",
   "id": "146e44a2",
   "metadata": {},
   "source": [
    "## Summing $L_1$ through $L_5$\n",
    "\n",
    "Recall that $L=L_1 + L_2 + L_3 + L_4 + L_5$. Let us show that\n",
    "\n",
    "$$L = \\frac{1}{4}\\nabla_{i}{G_{j}} u^{i j} - \\frac{1}{4}\\nabla_{i}{N_{j}} u^{i j}+\\frac{1}{2}\\partial_{i {\\bar\\imath}}{f} c^{i {\\bar\\imath}}+\\frac{1}{4}G_{i} h_{j k {\\ell}} u^{i j} u^{k {\\ell}} - \\frac{1}{4}N_{i} h_{j k {\\ell}} u^{i j} u^{k {\\ell}}+f \\left( - \\frac{1}{8}R_{i j k {\\ell}} u^{i k} u^{j {\\ell}} - \\frac{1}{4}{\\tilde R}_{i {\\bar\\imath} j {\\bar\\jmath}} c^{i {\\bar\\jmath}} c^{{\\bar\\imath} j}+\\frac{1}{2}{\\tilde R}_{i {\\bar\\imath} {\\bar\\jmath} j} c^{i {\\bar\\imath}} c^{j {\\bar\\jmath}}+\\frac{1}{4}\\nabla_{i}{h_{j k {\\ell}}} u^{i j} u^{k {\\ell}}+\\frac{1}{8}h_{i j k} h_{{\\ell} m n} u^{i j} u^{k {\\ell}} u^{m n} - \\frac{1}{24}h_{i j k} h_{{\\ell} m n} u^{i {\\ell}} u^{j m} u^{k n}\\right).$$"
   ]
  },
  {
   "cell_type": "code",
   "execution_count": 139,
   "id": "b3d279ad",
   "metadata": {},
   "outputs": [
    {
     "data": {
      "text/markdown": [
       "${}L = L_{1}+L_{2}+L_{3}+L_{4}+L_{5}$"
      ]
     },
     "metadata": {},
     "output_type": "display_data"
    }
   ],
   "source": [
    "ex:= L = L_1 + L_2 + L_3 + L_4 + L_5;"
   ]
  },
  {
   "cell_type": "code",
   "execution_count": 140,
   "id": "6cf4b17e",
   "metadata": {},
   "outputs": [
    {
     "data": {
      "text/markdown": [
       "${}L = \\frac{1}{4}\\partial_{i}{G_{j}} u^{i j} - \\frac{1}{4}\\partial_{i}{N_{j}} u^{i j}+\\frac{1}{2}\\partial_{i {\\bar\\imath}}{f} c^{i {\\bar\\imath}}+f \\left(\\frac{1}{2}c^{i {\\bar\\imath}} c_{i {\\bar\\imath} j k} u^{j k}+\\frac{1}{2}c^{i {\\bar\\imath}} c^{j {\\bar\\jmath}} c_{i {\\bar\\imath} k} c_{j {\\bar\\jmath} l} u^{k l} - \\frac{1}{2}c^{i {\\bar\\imath}} c^{j {\\bar\\jmath}} c_{{\\bar\\imath} j k} c_{i {\\bar\\jmath} l} u^{k l}\\right) - \\frac{1}{4}G_{i} c^{i {\\bar\\imath}} c_{{\\bar\\imath} j k} u^{j k}+\\frac{1}{2}G_{i} h_{j k l} u^{i j} u^{k l}+\\frac{1}{4}N_{i} c^{i {\\bar\\imath}} c_{{\\bar\\imath} j k} u^{j k} - \\frac{1}{2}N_{i} h_{j k l} u^{i j} u^{k l}+f \\left( - \\frac{1}{2}c^{i {\\bar\\imath}} c^{j {\\bar\\jmath}} c_{i {\\bar\\imath} j} c_{{\\bar\\jmath} k l} u^{k l}-c^{i {\\bar\\imath}} c^{j {\\bar\\jmath}} c_{i {\\bar\\imath} k} c_{j {\\bar\\jmath} l} u^{k l}+c^{i {\\bar\\imath}} c_{i {\\bar\\imath} j} h_{k l m} u^{j k} u^{l m}\\right)+f \\left(\\frac{1}{2}c^{i {\\bar\\imath}} c^{j {\\bar\\jmath}} c_{i {\\bar\\imath} j} c_{{\\bar\\jmath} k l} u^{k l}+\\frac{1}{2}c^{i {\\bar\\imath}} c^{j {\\bar\\jmath}} c_{i {\\bar\\imath} k} c_{j {\\bar\\jmath} l} u^{k l}-c^{i {\\bar\\imath}} c_{i {\\bar\\imath} j} h_{k l m} u^{j k} u^{l m} - \\frac{1}{2}c^{i {\\bar\\imath}} c_{{\\bar\\imath} j k} h_{i l m} u^{j k} u^{l m}+\\frac{1}{8}c_{i {\\bar\\imath} j} c_{{\\bar\\jmath} k l} u^{i j} u^{k l} u^{{\\bar\\imath} {\\bar\\jmath}}+\\frac{1}{2}h_{i j k} h_{l m n} u^{i j} u^{k l} u^{m n}\\right)+f \\left(\\frac{1}{2}c^{i {\\bar\\imath}} c^{j {\\bar\\jmath}} c_{i {\\bar\\jmath} k} c_{{\\bar\\imath} j l} u^{k l}-c^{i {\\bar\\imath}} c_{{\\bar\\imath} j k} h_{i l m} u^{j l} u^{k m}+\\frac{1}{4}c_{i {\\bar\\imath} j} c_{{\\bar\\jmath} k l} u^{i k} u^{j l} u^{{\\bar\\imath} {\\bar\\jmath}}+\\frac{1}{3}h_{i j k} h_{l m n} u^{i l} u^{j m} u^{k n}\\right)+f \\left(\\frac{1}{4}\\partial_{i}{h_{j k l}} u^{i j} u^{k l}+\\frac{1}{4}c^{i {\\bar\\imath}} c^{j {\\bar\\jmath}} c_{i {\\bar\\imath} j {\\bar\\jmath}} - \\frac{1}{2}c^{i {\\bar\\imath}} c_{i {\\bar\\imath} j k} u^{j k}+\\frac{1}{8}c_{i {\\bar\\imath} j {\\bar\\jmath}} u^{i j} u^{{\\bar\\imath} {\\bar\\jmath}} - \\frac{1}{4}c^{i {\\bar\\imath}} c^{j {\\bar\\jmath}} c^{k {\\bar k}} c_{i j {\\bar k}} c_{{\\bar\\imath} {\\bar\\jmath} k} - \\frac{1}{8}c^{i {\\bar\\imath}} c_{{\\bar\\imath} j k} c_{i {\\bar\\jmath} {\\bar k}} u^{j k} u^{{\\bar\\jmath} {\\bar k}}+\\frac{1}{4}c^{i {\\bar\\imath}} c_{{\\bar\\imath} j k} h_{i l m} u^{j k} u^{l m}+\\frac{1}{2}c^{i {\\bar\\imath}} c_{{\\bar\\imath} j k} h_{i l m} u^{j l} u^{k m} - \\frac{1}{8}c_{i {\\bar\\imath} j} c_{{\\bar\\jmath} k l} u^{i j} u^{k l} u^{{\\bar\\imath} {\\bar\\jmath}} - \\frac{1}{4}c_{i {\\bar\\imath} j} c_{{\\bar\\jmath} k l} u^{i k} u^{j l} u^{{\\bar\\imath} {\\bar\\jmath}}\\right)$"
      ]
     },
     "metadata": {},
     "output_type": "display_data"
    }
   ],
   "source": [
    "substitute(ex, rule_L1)\n",
    "substitute(ex, rule_L2)\n",
    "substitute(ex, rule_L3)\n",
    "substitute(ex, rule_L4)\n",
    "substitute(ex, rule_L5);"
   ]
  },
  {
   "cell_type": "code",
   "execution_count": 141,
   "id": "3ac4880c",
   "metadata": {},
   "outputs": [
    {
     "data": {
      "text/markdown": [
       "${}L = \\frac{1}{4}\\partial_{i}{G_{j}} u^{i j} - \\frac{1}{4}\\partial_{i}{N_{j}} u^{i j}+\\frac{1}{2}\\partial_{i {\\bar\\imath}}{f} c^{i {\\bar\\imath}} - \\frac{1}{4}G_{i} c^{i {\\bar\\imath}} c_{{\\bar\\imath} j k} u^{j k}+\\frac{1}{2}G_{i} h_{j k l} u^{i j} u^{k l}+\\frac{1}{4}N_{i} c^{i {\\bar\\imath}} c_{{\\bar\\imath} j k} u^{j k} - \\frac{1}{2}N_{i} h_{j k l} u^{i j} u^{k l}+\\frac{1}{4}\\partial_{i}{h_{j k l}} f u^{i j} u^{k l}+\\frac{1}{4}c^{i {\\bar\\imath}} c^{j {\\bar\\jmath}} c_{i {\\bar\\imath} j {\\bar\\jmath}} f+\\frac{1}{8}c_{i {\\bar\\imath} j {\\bar\\jmath}} f u^{i j} u^{{\\bar\\imath} {\\bar\\jmath}} - \\frac{1}{4}c^{i {\\bar\\imath}} c^{j {\\bar\\jmath}} c^{k {\\bar k}} c_{i j {\\bar k}} c_{{\\bar\\imath} {\\bar\\jmath} k} f - \\frac{1}{8}c^{i {\\bar\\imath}} c_{i {\\bar\\jmath} {\\bar k}} c_{{\\bar\\imath} j k} f u^{j k} u^{{\\bar\\jmath} {\\bar k}} - \\frac{1}{4}c^{i {\\bar\\imath}} c_{{\\bar\\imath} j k} f h_{i l m} u^{j k} u^{l m} - \\frac{1}{2}c^{i {\\bar\\imath}} c_{{\\bar\\imath} j k} f h_{i l m} u^{j l} u^{k m}+\\frac{1}{2}f h_{i j k} h_{l m n} u^{i j} u^{k l} u^{m n}+\\frac{1}{3}f h_{i j k} h_{l m n} u^{i l} u^{j m} u^{k n}$"
      ]
     },
     "metadata": {},
     "output_type": "display_data"
    }
   ],
   "source": [
    "distribute(_)\n",
    "tidy(_)"
   ]
  },
  {
   "cell_type": "code",
   "execution_count": 142,
   "id": "0047cc6d",
   "metadata": {},
   "outputs": [
    {
     "data": {
      "text/markdown": [
       "${}L = \\frac{1}{4}\\partial_{i}{G_{j}} u^{i j} - \\frac{1}{4}\\partial_{i}{N_{j}} u^{i j}+\\frac{1}{2}\\partial_{i {\\bar\\imath}}{f} c^{i {\\bar\\imath}} - \\frac{1}{4}G_{i} c^{i {\\bar\\imath}} c_{{\\bar\\imath} j k} u^{j k}+\\frac{1}{2}G_{i} h_{j k l} u^{i j} u^{k l}+\\frac{1}{4}N_{i} c^{i {\\bar\\imath}} c_{{\\bar\\imath} j k} u^{j k} - \\frac{1}{2}N_{i} h_{j k l} u^{i j} u^{k l}+\\frac{1}{4}\\partial_{i}{h_{j k l}} f u^{i j} u^{k l}+\\frac{1}{4}c^{i {\\bar\\imath}} c^{j {\\bar\\jmath}} \\left(c_{j i {\\bar s}} c^{t {\\bar s}} c_{t {\\bar\\imath} {\\bar\\jmath}}+2{\\tilde R}_{i {\\bar\\imath} {\\bar\\jmath} j}\\right) f+\\frac{1}{8}\\left(c_{j i {\\bar s}} c^{t {\\bar s}} c_{t {\\bar\\imath} {\\bar\\jmath}}+2{\\tilde R}_{i {\\bar\\imath} {\\bar\\jmath} j}\\right) f u^{i j} u^{{\\bar\\imath} {\\bar\\jmath}} - \\frac{1}{4}c^{i {\\bar\\imath}} c^{j {\\bar\\jmath}} c^{k {\\bar k}} c_{i j {\\bar k}} c_{{\\bar\\imath} {\\bar\\jmath} k} f - \\frac{1}{8}c^{i {\\bar\\imath}} c_{i {\\bar\\jmath} {\\bar k}} c_{{\\bar\\imath} j k} f u^{j k} u^{{\\bar\\jmath} {\\bar k}} - \\frac{1}{4}c^{i {\\bar\\imath}} c_{{\\bar\\imath} j k} f h_{i l m} u^{j k} u^{l m} - \\frac{1}{2}c^{i {\\bar\\imath}} c_{{\\bar\\imath} j k} f h_{i l m} u^{j l} u^{k m}+\\frac{1}{2}f h_{i j k} h_{l m n} u^{i j} u^{k l} u^{m n}+\\frac{1}{3}f h_{i j k} h_{l m n} u^{i l} u^{j m} u^{k n}$"
      ]
     },
     "metadata": {},
     "output_type": "display_data"
    }
   ],
   "source": [
    "# Replace doubly mixed derivatives of c with the curvature tensor\n",
    "substitute(ex, rules_d4c);"
   ]
  },
  {
   "cell_type": "code",
   "execution_count": 143,
   "id": "5fb746ec",
   "metadata": {},
   "outputs": [
    {
     "data": {
      "text/markdown": [
       "${}L = \\frac{1}{4}\\left(\\nabla_{i}{G_{j}}+c_{i j {\\bar m}} c^{k {\\bar m}} G_{k}-u^{k l} h_{i j l} G_{k}\\right) u^{i j} - \\frac{1}{4}\\left(\\nabla_{i}{N_{j}}+c_{i j {\\bar m}} c^{k {\\bar m}} N_{k}-u^{k l} h_{i j l} N_{k}\\right) u^{i j}+\\frac{1}{2}\\partial_{i {\\bar\\imath}}{f} c^{i {\\bar\\imath}} - \\frac{1}{4}G_{i} c^{i {\\bar\\imath}} c_{{\\bar\\imath} j k} u^{j k}+\\frac{1}{2}G_{i} h_{j k l} u^{i j} u^{k l}+\\frac{1}{4}N_{i} c^{i {\\bar\\imath}} c_{{\\bar\\imath} j k} u^{j k} - \\frac{1}{2}N_{i} h_{j k l} u^{i j} u^{k l}+\\frac{1}{4}\\left(\\nabla_{i}{h_{j k l}}+c^{{\\bar\\imath} m} c_{j i {\\bar\\imath}} h_{k l m}+c^{{\\bar\\imath} m} c_{k i {\\bar\\imath}} h_{j l m}+c^{{\\bar\\imath} m} c_{l i {\\bar\\imath}} h_{j k m}-h_{j k m} h_{l i n} u^{m n}-h_{j l m} h_{k i n} u^{m n}-h_{j i m} h_{k l n} u^{m n}\\right) f u^{i j} u^{k l}+\\frac{1}{4}c^{i {\\bar\\imath}} c^{j {\\bar\\jmath}} \\left(c_{j i {\\bar s}} c^{t {\\bar s}} c_{t {\\bar\\imath} {\\bar\\jmath}}+2{\\tilde R}_{i {\\bar\\imath} {\\bar\\jmath} j}\\right) f+\\frac{1}{8}\\left(c_{j i {\\bar s}} c^{t {\\bar s}} c_{t {\\bar\\imath} {\\bar\\jmath}}+2{\\tilde R}_{i {\\bar\\imath} {\\bar\\jmath} j}\\right) f u^{i j} u^{{\\bar\\imath} {\\bar\\jmath}} - \\frac{1}{4}c^{i {\\bar\\imath}} c^{j {\\bar\\jmath}} c^{k {\\bar k}} c_{i j {\\bar k}} c_{{\\bar\\imath} {\\bar\\jmath} k} f - \\frac{1}{8}c^{i {\\bar\\imath}} c_{i {\\bar\\jmath} {\\bar k}} c_{{\\bar\\imath} j k} f u^{j k} u^{{\\bar\\jmath} {\\bar k}} - \\frac{1}{4}c^{i {\\bar\\imath}} c_{{\\bar\\imath} j k} f h_{i l m} u^{j k} u^{l m} - \\frac{1}{2}c^{i {\\bar\\imath}} c_{{\\bar\\imath} j k} f h_{i l m} u^{j l} u^{k m}+\\frac{1}{2}f h_{i j k} h_{l m n} u^{i j} u^{k l} u^{m n}+\\frac{1}{3}f h_{i j k} h_{l m n} u^{i l} u^{j m} u^{k n}$"
      ]
     },
     "metadata": {},
     "output_type": "display_data"
    }
   ],
   "source": [
    "# Replace partial derivatives with covariant derivatives\n",
    "substitute(_, rule_dG)\n",
    "substitute(_, rule_dN)\n",
    "substitute(_, rule_dh);"
   ]
  },
  {
   "cell_type": "code",
   "execution_count": 144,
   "id": "88b5a6c4",
   "metadata": {},
   "outputs": [
    {
     "data": {
      "text/markdown": [
       "${}L = \\frac{1}{4}\\nabla_{i}{G_{j}} u^{i j}+\\frac{1}{4}c_{i j {\\bar m}} c^{k {\\bar m}} G_{k} u^{i j} - \\frac{1}{4}u^{k l} h_{i j l} G_{k} u^{i j} - \\frac{1}{4}\\nabla_{i}{N_{j}} u^{i j} - \\frac{1}{4}c_{i j {\\bar m}} c^{k {\\bar m}} N_{k} u^{i j}+\\frac{1}{4}u^{k l} h_{i j l} N_{k} u^{i j}+\\frac{1}{2}\\partial_{i {\\bar\\imath}}{f} c^{i {\\bar\\imath}} - \\frac{1}{4}G_{i} c^{i {\\bar\\imath}} c_{{\\bar\\imath} j k} u^{j k}+\\frac{1}{2}G_{i} h_{j k l} u^{i j} u^{k l}+\\frac{1}{4}N_{i} c^{i {\\bar\\imath}} c_{{\\bar\\imath} j k} u^{j k} - \\frac{1}{2}N_{i} h_{j k l} u^{i j} u^{k l}+\\frac{1}{4}\\nabla_{i}{h_{j k l}} f u^{i j} u^{k l}+\\frac{1}{4}c^{{\\bar\\imath} m} c_{j i {\\bar\\imath}} h_{k l m} f u^{i j} u^{k l}+\\frac{1}{4}c^{{\\bar\\imath} m} c_{k i {\\bar\\imath}} h_{j l m} f u^{i j} u^{k l}+\\frac{1}{4}c^{{\\bar\\imath} m} c_{l i {\\bar\\imath}} h_{j k m} f u^{i j} u^{k l} - \\frac{1}{4}h_{j k m} h_{l i n} u^{m n} f u^{i j} u^{k l} - \\frac{1}{4}h_{j l m} h_{k i n} u^{m n} f u^{i j} u^{k l} - \\frac{1}{4}h_{j i m} h_{k l n} u^{m n} f u^{i j} u^{k l}+\\frac{1}{4}c^{i {\\bar\\imath}} c^{j {\\bar\\jmath}} c_{j i {\\bar s}} c^{t {\\bar s}} c_{t {\\bar\\imath} {\\bar\\jmath}} f%\n",
       "+\\frac{1}{2}c^{i {\\bar\\imath}} c^{j {\\bar\\jmath}} {\\tilde R}_{i {\\bar\\imath} {\\bar\\jmath} j} f+\\frac{1}{8}c_{j i {\\bar s}} c^{t {\\bar s}} c_{t {\\bar\\imath} {\\bar\\jmath}} f u^{i j} u^{{\\bar\\imath} {\\bar\\jmath}}+\\frac{1}{4}{\\tilde R}_{i {\\bar\\imath} {\\bar\\jmath} j} f u^{i j} u^{{\\bar\\imath} {\\bar\\jmath}} - \\frac{1}{4}c^{i {\\bar\\imath}} c^{j {\\bar\\jmath}} c^{k {\\bar k}} c_{i j {\\bar k}} c_{{\\bar\\imath} {\\bar\\jmath} k} f - \\frac{1}{8}c^{i {\\bar\\imath}} c_{i {\\bar\\jmath} {\\bar k}} c_{{\\bar\\imath} j k} f u^{j k} u^{{\\bar\\jmath} {\\bar k}} - \\frac{1}{4}c^{i {\\bar\\imath}} c_{{\\bar\\imath} j k} f h_{i l m} u^{j k} u^{l m} - \\frac{1}{2}c^{i {\\bar\\imath}} c_{{\\bar\\imath} j k} f h_{i l m} u^{j l} u^{k m}+\\frac{1}{2}f h_{i j k} h_{l m n} u^{i j} u^{k l} u^{m n}+\\frac{1}{3}f h_{i j k} h_{l m n} u^{i l} u^{j m} u^{k n}$"
      ]
     },
     "metadata": {},
     "output_type": "display_data"
    }
   ],
   "source": [
    "distribute(_);"
   ]
  },
  {
   "cell_type": "code",
   "execution_count": 145,
   "id": "2a657e7f",
   "metadata": {},
   "outputs": [
    {
     "data": {
      "text/markdown": [
       "${}L = \\frac{1}{4}\\nabla_{i}{G_{j}} u^{i j}+\\frac{1}{4}c_{i j {\\bar m}} c^{k {\\bar m}} G_{k} u^{i j} - \\frac{1}{4}u^{k l} h_{i j l} G_{k} u^{i j} - \\frac{1}{4}\\nabla_{i}{N_{j}} u^{i j} - \\frac{1}{4}c_{i j {\\bar m}} c^{k {\\bar m}} N_{k} u^{i j}+\\frac{1}{4}u^{k l} h_{i j l} N_{k} u^{i j}+\\frac{1}{2}\\partial_{i {\\bar\\imath}}{f} c^{i {\\bar\\imath}} - \\frac{1}{4}G_{i} c^{i {\\bar\\imath}} c_{{\\bar\\imath} j k} u^{j k}+\\frac{1}{2}G_{i} h_{j k l} u^{i j} u^{k l}+\\frac{1}{4}N_{i} c^{i {\\bar\\imath}} c_{{\\bar\\imath} j k} u^{j k} - \\frac{1}{2}N_{i} h_{j k l} u^{i j} u^{k l}+\\frac{1}{4}\\nabla_{i}{h_{j k l}} f u^{i j} u^{k l}+\\frac{1}{4}c^{{\\bar\\imath} m} c_{j i {\\bar\\imath}} h_{k l m} f u^{i j} u^{k l}+\\frac{1}{4}c^{{\\bar\\imath} m} c_{k i {\\bar\\imath}} h_{j l m} f u^{i j} u^{k l}+\\frac{1}{4}c^{{\\bar\\imath} m} c_{l i {\\bar\\imath}} h_{j k m} f u^{i j} u^{k l} - \\frac{1}{4}h_{j k m} h_{l i n} u^{m n} f u^{i j} u^{k l} - \\frac{1}{4}h_{j l m} h_{k i n} u^{m n} f u^{i j} u^{k l} - \\frac{1}{4}h_{j i m} h_{k l n} u^{m n} f u^{i j} u^{k l}+\\frac{1}{4}c^{i {\\bar\\imath}} c^{j {\\bar\\jmath}} c_{j i {\\bar s}} c^{t {\\bar s}} c_{t {\\bar\\imath} {\\bar\\jmath}} f%\n",
       "+\\frac{1}{2}c^{i {\\bar\\imath}} c^{j {\\bar\\jmath}} {\\tilde R}_{i {\\bar\\imath} {\\bar\\jmath} j} f+\\frac{1}{8}c_{j i {\\bar s}} c^{t {\\bar s}} c_{t {\\bar\\imath} {\\bar\\jmath}} f u^{i j} u^{{\\bar\\imath} {\\bar\\jmath}}+\\frac{1}{4}{\\tilde R}_{i {\\bar\\imath} {\\bar\\jmath} j} f u^{i j} u^{{\\bar\\imath} {\\bar\\jmath}} - \\frac{1}{4}c^{i {\\bar\\imath}} c^{j {\\bar\\jmath}} c^{k {\\bar k}} c_{i j {\\bar k}} c_{{\\bar\\imath} {\\bar\\jmath} k} f - \\frac{1}{8}c^{i {\\bar\\imath}} c_{i {\\bar\\jmath} {\\bar k}} c_{{\\bar\\imath} j k} f u^{j k} u^{{\\bar\\jmath} {\\bar k}} - \\frac{1}{4}c^{i {\\bar\\imath}} c_{{\\bar\\imath} j k} f h_{i l m} u^{j k} u^{l m} - \\frac{1}{2}c^{i {\\bar\\imath}} c_{{\\bar\\imath} j k} f h_{i l m} u^{j l} u^{k m}+\\frac{1}{2}f h_{i j k} h_{l m n} u^{i j} u^{k l} u^{m n}+\\frac{1}{3}f h_{i j k} h_{l m n} u^{i l} u^{j m} u^{k n}$"
      ]
     },
     "metadata": {},
     "output_type": "display_data"
    }
   ],
   "source": [
    "substitute(_, rules_cu);"
   ]
  },
  {
   "cell_type": "code",
   "execution_count": 146,
   "id": "673136e5",
   "metadata": {},
   "outputs": [
    {
     "data": {
      "text/markdown": [
       "${}L = \\frac{1}{4}\\nabla_{i}{G_{j}} u^{i j} - \\frac{1}{4}\\nabla_{i}{N_{j}} u^{i j}+\\frac{1}{2}\\partial_{i {\\bar\\imath}}{f} c^{i {\\bar\\imath}}+\\frac{1}{4}G_{i} h_{j k l} u^{i j} u^{k l} - \\frac{1}{4}N_{i} h_{j k l} u^{i j} u^{k l}+\\frac{1}{2}{\\tilde R}_{i {\\bar\\imath} {\\bar\\jmath} j} c^{i {\\bar\\imath}} c^{j {\\bar\\jmath}} f+\\frac{1}{4}{\\tilde R}_{i {\\bar\\imath} {\\bar\\jmath} j} f u^{i j} u^{{\\bar\\imath} {\\bar\\jmath}}+\\frac{1}{4}\\nabla_{i}{h_{j k l}} f u^{i j} u^{k l} - \\frac{1}{8}c^{i {\\bar\\imath}} c_{i {\\bar\\jmath} {\\bar k}} c_{{\\bar\\imath} j k} f u^{j k} u^{{\\bar\\jmath} {\\bar k}}+\\frac{1}{8}c^{i {\\bar\\imath}} c_{{\\bar\\imath} j k} c_{i {\\bar\\jmath} {\\bar k}} f u^{j k} u^{{\\bar\\jmath} {\\bar k}}+\\frac{1}{4}f h_{i j k} h_{l m n} u^{i j} u^{k l} u^{m n} - \\frac{1}{6}f h_{i j k} h_{l m n} u^{i l} u^{j m} u^{k n}$"
      ]
     },
     "metadata": {},
     "output_type": "display_data"
    }
   ],
   "source": [
    "tidy(_)"
   ]
  },
  {
   "cell_type": "code",
   "execution_count": 147,
   "id": "8b7e59d1",
   "metadata": {},
   "outputs": [
    {
     "data": {
      "text/markdown": [
       "${}L = \\frac{1}{4}\\nabla_{i}{G_{j}} u^{i j} - \\frac{1}{4}\\nabla_{i}{N_{j}} u^{i j}+\\frac{1}{2}\\partial_{i {\\bar\\imath}}{f} c^{i {\\bar\\imath}}+\\frac{1}{4}G_{i} h_{j k l} u^{i j} u^{k l} - \\frac{1}{4}N_{i} h_{j k l} u^{i j} u^{k l}+\\frac{1}{2}{\\tilde R}_{i {\\bar\\imath} {\\bar\\jmath} j} c^{i {\\bar\\imath}} c^{j {\\bar\\jmath}} f+\\frac{1}{4}{\\tilde R}_{i {\\bar\\imath} {\\bar\\jmath} j} f u^{i j} u^{{\\bar\\imath} {\\bar\\jmath}}+\\frac{1}{4}\\nabla_{i}{h_{j k l}} f u^{i j} u^{k l}+\\frac{1}{4}f h_{i j k} h_{l m n} u^{i j} u^{k l} u^{m n} - \\frac{1}{6}f h_{i j k} h_{l m n} u^{i l} u^{j m} u^{k n}$"
      ]
     },
     "metadata": {},
     "output_type": "display_data"
    }
   ],
   "source": [
    "tidy(_)"
   ]
  },
  {
   "cell_type": "code",
   "execution_count": 148,
   "id": "fd2b667a",
   "metadata": {},
   "outputs": [
    {
     "data": {
      "text/markdown": [
       "${}L = \\frac{1}{4}\\nabla_{i}{G_{j}} u^{i j} - \\frac{1}{4}\\nabla_{i}{N_{j}} u^{i j}+\\frac{1}{2}\\partial_{i {\\bar\\imath}}{f} c^{i {\\bar\\imath}}+\\frac{1}{4}G_{i} h_{j k l} u^{i j} u^{k l} - \\frac{1}{4}N_{i} h_{j k l} u^{i j} u^{k l}+\\frac{1}{2}{\\tilde R}_{i {\\bar\\imath} {\\bar\\jmath} j} c^{i {\\bar\\imath}} c^{j {\\bar\\jmath}} f+\\frac{1}{4}{\\tilde R}_{i {\\bar\\imath} {\\bar\\jmath} j} f u^{i j} u^{{\\bar\\imath} {\\bar\\jmath}}+\\frac{1}{4}\\nabla_{i}{h_{j k l}} f u^{i j} u^{k l}+\\frac{1}{4}f h_{i j k} h_{l m n} u^{i j} u^{k l} u^{m n} - \\frac{1}{6}f h_{i j k} h_{l m n} u^{i l} u^{j m} u^{k n}$"
      ]
     },
     "metadata": {},
     "output_type": "display_data"
    }
   ],
   "source": [
    "distribute(_)\n",
    "tidy(_)"
   ]
  },
  {
   "cell_type": "code",
   "execution_count": 149,
   "id": "62e3f728",
   "metadata": {},
   "outputs": [
    {
     "data": {
      "text/markdown": [
       "${}L = \\frac{1}{4}\\nabla_{i}{G_{j}} u^{i j} - \\frac{1}{4}\\nabla_{i}{N_{j}} u^{i j}+\\frac{1}{2}\\partial_{i {\\bar\\imath}}{f} c^{i {\\bar\\imath}}+\\frac{1}{4}G_{i} h_{j k l} u^{i j} u^{k l} - \\frac{1}{4}N_{i} h_{j k l} u^{i j} u^{k l}+f \\left(\\frac{1}{2}{\\tilde R}_{i {\\bar\\imath} {\\bar\\jmath} j} c^{i {\\bar\\imath}} c^{j {\\bar\\jmath}}+\\frac{1}{4}{\\tilde R}_{i {\\bar\\imath} {\\bar\\jmath} j} u^{i j} u^{{\\bar\\imath} {\\bar\\jmath}}+\\frac{1}{4}\\nabla_{i}{h_{j k l}} u^{i j} u^{k l}+\\frac{1}{4}h_{i j k} h_{l m n} u^{i j} u^{k l} u^{m n} - \\frac{1}{6}h_{i j k} h_{l m n} u^{i l} u^{j m} u^{k n}\\right)$"
      ]
     },
     "metadata": {},
     "output_type": "display_data"
    }
   ],
   "source": [
    "factor_out(_, $f$);"
   ]
  },
  {
   "cell_type": "markdown",
   "id": "2a51c518",
   "metadata": {},
   "source": [
    "# 3. Derivation of some rules\n",
    "\n",
    "Let us show how Cadabra makes it easy to derive some of the formulas we use."
   ]
  },
  {
   "cell_type": "markdown",
   "id": "36e2aeb1",
   "metadata": {},
   "source": [
    "## 3.1. Rule for $u_{ijk}$\n",
    "\n",
    "Let us show that \n",
    "\n",
    "$$\n",
    "u_{i j k} = -\\partial_{i}{y^{{\\bar\\imath}}} c_{j k {\\bar\\imath}}-\\partial_{j}{y^{{\\bar\\jmath}}} c_{i k {\\bar\\jmath}}-\\partial_{k}{y^{{\\bar k}}} c_{i j {\\bar k}}-2h_{i j k}.\n",
    "$$\n",
    "\n",
    "We start from $u_{ij}$ and apply $\\tilde\\nabla_{t_k}=\\partial_k + \\partial_ky^{\\bar k}\\partial_{\\bar k}$, an operator that we denote $D_k$ in Cadabra."
   ]
  },
  {
   "cell_type": "code",
   "execution_count": 150,
   "id": "e9246555",
   "metadata": {},
   "outputs": [
    {
     "data": {
      "text/markdown": [
       "${}D_{k}{u_{i j}} = u_{i j k}+c_{i j {\\bar k}} \\partial_{k}{y^{{\\bar k}}}$"
      ]
     },
     "metadata": {},
     "output_type": "display_data"
    }
   ],
   "source": [
    "ex:= D_{k}{u_{i j}} = u_{i j k} + c_{i j kb} \\partial_{k}{y^{kb}};"
   ]
  },
  {
   "cell_type": "code",
   "execution_count": 151,
   "id": "975b0940",
   "metadata": {},
   "outputs": [
    {
     "data": {
      "text/markdown": [
       "${}u_{i j k} = -c_{i j {\\bar k}} \\partial_{k}{y^{{\\bar k}}}+D_{k}{u_{i j}}$"
      ]
     },
     "metadata": {},
     "output_type": "display_data"
    }
   ],
   "source": [
    "# Rearrange terms\n",
    "isolate(_, $u_{i j k}$);"
   ]
  },
  {
   "cell_type": "code",
   "execution_count": 152,
   "id": "dcec2fe1",
   "metadata": {},
   "outputs": [
    {
     "data": {
      "text/markdown": [
       "${}u_{i j k} = -c_{i j {\\bar k}} \\partial_{k}{y^{{\\bar k}}}-D_{k}\\left(c_{i {\\bar\\jmath}} \\partial_{j}{y^{{\\bar\\jmath}}}\\right)$"
      ]
     },
     "metadata": {},
     "output_type": "display_data"
    }
   ],
   "source": [
    "substitute(_, $u_{i j} = -c_{i jb} \\partial_{j}{y^{jb}}$);"
   ]
  },
  {
   "cell_type": "code",
   "execution_count": 153,
   "id": "c9b15af2",
   "metadata": {},
   "outputs": [
    {
     "data": {
      "text/markdown": [
       "${}u_{i j k} = -c_{i j {\\bar k}} \\partial_{k}{y^{{\\bar k}}}-D_{k}{c_{i {\\bar\\jmath}}} \\partial_{j}{y^{{\\bar\\jmath}}}-c_{i {\\bar\\jmath}} D_{k}\\left(\\partial_{j}{y^{{\\bar\\jmath}}}\\right)$"
      ]
     },
     "metadata": {},
     "output_type": "display_data"
    }
   ],
   "source": [
    "product_rule(_);"
   ]
  },
  {
   "cell_type": "code",
   "execution_count": 154,
   "id": "58b28e75",
   "metadata": {},
   "outputs": [
    {
     "data": {
      "text/markdown": [
       "${}u_{i j k} = -c_{i j {\\bar k}} \\partial_{k}{y^{{\\bar k}}}-\\left(c_{i {\\bar\\jmath} k}+c_{i {\\bar\\jmath} {\\bar k}} \\partial_{k}{y^{{\\bar k}}}\\right) \\partial_{j}{y^{{\\bar\\jmath}}}-c_{i {\\bar\\jmath}} D_{k}\\left(\\partial_{j}{y^{{\\bar\\jmath}}}\\right)$"
      ]
     },
     "metadata": {},
     "output_type": "display_data"
    }
   ],
   "source": [
    "substitute(_, $D_{k}{c_{i jb}} = c_{i jb k} + c_{i jb kb} \\partial_{k}{y^{kb}}$);"
   ]
  },
  {
   "cell_type": "code",
   "execution_count": 155,
   "id": "ea76f5bc",
   "metadata": {},
   "outputs": [
    {
     "data": {
      "text/markdown": [
       "${}u_{i j k} = -c_{i j {\\bar k}} \\partial_{k}{y^{{\\bar k}}}-\\left(c_{i {\\bar\\jmath} k}+c_{i {\\bar\\jmath} {\\bar k}} \\partial_{k}{y^{{\\bar k}}}\\right) \\partial_{j}{y^{{\\bar\\jmath}}}-c_{i {\\bar\\jmath}} \\partial_{j k}{y^{{\\bar\\jmath}}}$"
      ]
     },
     "metadata": {},
     "output_type": "display_data"
    }
   ],
   "source": [
    "substitute(_, $D_{k}{\\partial_{j}{y^{ib}}} = \\partial_{j k}{y^{ib}}$);"
   ]
  },
  {
   "cell_type": "code",
   "execution_count": 156,
   "id": "78e15e0c",
   "metadata": {},
   "outputs": [
    {
     "data": {
      "text/markdown": [
       "${}u_{i j k} = -c_{i j {\\bar k}} \\partial_{k}{y^{{\\bar k}}}-\\left(c_{i {\\bar\\jmath} k}+c_{i {\\bar\\jmath} {\\bar k}} \\partial_{k}{y^{{\\bar k}}}\\right) \\partial_{j}{y^{{\\bar\\jmath}}}-c_{i {\\bar\\jmath}} \\left(c^{l {\\bar m}} c_{j k {\\bar m}} \\partial_{l}{y^{{\\bar\\jmath}}}-c^{{\\bar\\jmath} m} c_{{\\bar\\imath} {\\bar k} m} \\partial_{j}{y^{{\\bar\\imath}}} \\partial_{k}{y^{{\\bar k}}}+2c^{{\\bar\\jmath} m} h_{j k m}\\right)$"
      ]
     },
     "metadata": {},
     "output_type": "display_data"
    }
   ],
   "source": [
    "substitute(_, rule_ddy);"
   ]
  },
  {
   "cell_type": "code",
   "execution_count": 157,
   "id": "7477f1b9",
   "metadata": {},
   "outputs": [
    {
     "data": {
      "text/markdown": [
       "${}u_{i j k} = -\\partial_{j}{y^{{\\bar\\imath}}} c_{i k {\\bar\\imath}}-\\partial_{k}{y^{{\\bar\\imath}}} c_{i j {\\bar\\imath}}-\\partial_{j}{y^{{\\bar\\imath}}} \\partial_{k}{y^{{\\bar\\jmath}}} c_{i {\\bar\\imath} {\\bar\\jmath}}-2c_{i {\\bar\\imath}} c^{{\\bar\\imath} l} h_{j k l}-\\partial_{l}{y^{{\\bar\\imath}}} c_{i {\\bar\\imath}} c^{{\\bar\\jmath} l} c_{j k {\\bar\\jmath}}+\\partial_{j}{y^{{\\bar\\imath}}} \\partial_{k}{y^{{\\bar\\jmath}}} c_{i {\\bar k}} c^{{\\bar k} l} c_{{\\bar\\imath} {\\bar\\jmath} l}$"
      ]
     },
     "metadata": {},
     "output_type": "display_data"
    }
   ],
   "source": [
    "distribute(_)\n",
    "tidy(_)"
   ]
  },
  {
   "cell_type": "code",
   "execution_count": 158,
   "id": "72848f0c",
   "metadata": {},
   "outputs": [
    {
     "data": {
      "text/markdown": [
       "${}u_{i j k} = -\\partial_{j}{y^{{\\bar\\imath}}} c_{i k {\\bar\\imath}}-\\partial_{k}{y^{{\\bar\\imath}}} c_{i j {\\bar\\imath}}-\\partial_{j}{y^{{\\bar\\imath}}} \\partial_{k}{y^{{\\bar\\jmath}}} c_{i {\\bar\\imath} {\\bar\\jmath}}-2u_{i}\\,^{l} h_{j k l}-\\partial_{l}{y^{{\\bar\\imath}}} c_{i {\\bar\\imath}} c^{{\\bar\\jmath} l} c_{j k {\\bar\\jmath}}+\\partial_{j}{y^{{\\bar\\imath}}} \\partial_{k}{y^{{\\bar\\jmath}}} u_{i}\\,^{l} c_{{\\bar\\imath} {\\bar\\jmath} l}$"
      ]
     },
     "metadata": {},
     "output_type": "display_data"
    }
   ],
   "source": [
    "# We need to manually simplify some Kronecker deltas\n",
    "substitute(_, $c_{j ib} c^{ib k} = u_{j}^{k}$);"
   ]
  },
  {
   "cell_type": "code",
   "execution_count": 159,
   "id": "a228e25e",
   "metadata": {},
   "outputs": [
    {
     "data": {
      "text/markdown": [
       "${}u_{i j k} = -\\partial_{j}{y^{{\\bar\\imath}}} c_{i k {\\bar\\imath}}-\\partial_{k}{y^{{\\bar\\imath}}} c_{i j {\\bar\\imath}}-\\partial_{j}{y^{{\\bar\\imath}}} \\partial_{k}{y^{{\\bar\\jmath}}} c_{i {\\bar\\imath} {\\bar\\jmath}}-2h_{j k i}-\\partial_{l}{y^{{\\bar\\imath}}} c_{i {\\bar\\imath}} c^{{\\bar\\jmath} l} c_{j k {\\bar\\jmath}}+\\partial_{j}{y^{{\\bar\\imath}}} \\partial_{k}{y^{{\\bar\\jmath}}} c_{{\\bar\\imath} {\\bar\\jmath} i}$"
      ]
     },
     "metadata": {},
     "output_type": "display_data"
    }
   ],
   "source": [
    "eliminate_kronecker(_);"
   ]
  },
  {
   "cell_type": "code",
   "execution_count": 160,
   "id": "c1eefa3b",
   "metadata": {},
   "outputs": [
    {
     "data": {
      "text/markdown": [
       "${}u_{i j k} = -\\partial_{j}{y^{{\\bar\\imath}}} c_{i k {\\bar\\imath}}-\\partial_{k}{y^{{\\bar\\imath}}} c_{i j {\\bar\\imath}}-\\partial_{l}{y^{{\\bar\\imath}}} c_{i {\\bar\\imath}} c^{{\\bar\\jmath} l} c_{j k {\\bar\\jmath}}-2h_{i j k}$"
      ]
     },
     "metadata": {},
     "output_type": "display_data"
    }
   ],
   "source": [
    "tidy(_)"
   ]
  },
  {
   "cell_type": "code",
   "execution_count": 161,
   "id": "5b758c0e",
   "metadata": {},
   "outputs": [
    {
     "data": {
      "text/markdown": [
       "${}u_{i j k} = -\\partial_{j}{y^{{\\bar\\imath}}} c_{i k {\\bar\\imath}}-\\partial_{k}{y^{{\\bar\\imath}}} c_{i j {\\bar\\imath}}+u^{{\\bar\\imath} {\\bar\\jmath}} c_{i {\\bar\\imath}} c_{j k {\\bar\\jmath}}-2h_{i j k}$"
      ]
     },
     "metadata": {},
     "output_type": "display_data"
    }
   ],
   "source": [
    "substitute(_, rules_cu);"
   ]
  },
  {
   "cell_type": "code",
   "execution_count": 162,
   "id": "0e804f7a",
   "metadata": {},
   "outputs": [
    {
     "data": {
      "text/markdown": [
       "${}u_{i j k} = -\\partial_{j}{y^{{\\bar\\imath}}} c_{i k {\\bar\\imath}}-\\partial_{k}{y^{{\\bar\\imath}}} c_{i j {\\bar\\imath}}+c_{i {\\bar\\imath}} c_{j k {\\bar\\jmath}} u^{{\\bar\\imath} {\\bar\\jmath}}-2h_{i j k}$"
      ]
     },
     "metadata": {},
     "output_type": "display_data"
    }
   ],
   "source": [
    "tidy(_)"
   ]
  },
  {
   "cell_type": "code",
   "execution_count": 163,
   "id": "d331c79a",
   "metadata": {},
   "outputs": [
    {
     "data": {
      "text/markdown": [
       "${}u_{i j k} = -\\partial_{j}{y^{{\\bar\\imath}}} c_{i k {\\bar\\imath}}-\\partial_{k}{y^{{\\bar\\imath}}} c_{i j {\\bar\\imath}}-\\partial_{i}{y^{{\\bar\\jmath}}} c_{j k {\\bar\\jmath}}-2h_{i j k}$"
      ]
     },
     "metadata": {},
     "output_type": "display_data"
    }
   ],
   "source": [
    "substitute(_, rules_cu);"
   ]
  },
  {
   "cell_type": "code",
   "execution_count": 164,
   "id": "149f0b3c",
   "metadata": {},
   "outputs": [
    {
     "data": {
      "text/markdown": [
       "${}u_{i j k} = -\\partial_{i}{y^{{\\bar\\imath}}} c_{j k {\\bar\\imath}}-\\partial_{j}{y^{{\\bar\\imath}}} c_{i k {\\bar\\imath}}-\\partial_{k}{y^{{\\bar\\imath}}} c_{i j {\\bar\\imath}}-2h_{i j k}$"
      ]
     },
     "metadata": {},
     "output_type": "display_data"
    }
   ],
   "source": [
    "tidy(ex)"
   ]
  },
  {
   "cell_type": "markdown",
   "id": "ad189036",
   "metadata": {},
   "source": [
    "## 3.3. Rule for $u_{ijkl}$\n",
    "\n",
    "Let us show that \n",
    "\n",
    "$$u_{ijkl} = -2\\partial_{l}{h_{i j k}}-\\partial_{i}{y^{{\\bar\\imath}}} c_{j k l {\\bar\\imath}}-\\partial_{j}{y^{{\\bar\\imath}}} c_{i k l {\\bar\\imath}}-\\partial_{k}{y^{{\\bar\\imath}}} c_{i j l {\\bar\\imath}}-\\partial_{l}{y^{{\\bar\\imath}}} c_{i j k {\\bar\\imath}}-\\partial_{i}{y^{{\\bar\\imath}}} \\partial_{l}{y^{{\\bar\\jmath}}} c_{j k {\\bar\\imath} {\\bar\\jmath}}-\\partial_{j}{y^{{\\bar\\imath}}} \\partial_{l}{y^{{\\bar\\jmath}}} c_{i k {\\bar\\imath} {\\bar\\jmath}}-\\partial_{k}{y^{{\\bar\\imath}}} \\partial_{l}{y^{{\\bar\\jmath}}} c_{i j {\\bar\\imath} {\\bar\\jmath}}-2c^{{\\bar\\imath} m} c_{i j {\\bar\\imath}} h_{k l m}-2c^{{\\bar\\imath} m} c_{i k {\\bar\\imath}} h_{j l m}-2c^{{\\bar\\imath} m} c_{j k {\\bar\\imath}} h_{i l m}-\\partial_{m}{y^{{\\bar\\imath}}} c^{{\\bar\\jmath} m} c_{i j {\\bar\\imath}} c_{k l {\\bar\\jmath}}-\\partial_{m}{y^{{\\bar\\imath}}} c^{{\\bar\\jmath} m} c_{i l {\\bar\\jmath}} c_{j k {\\bar\\imath}}-\\partial_{m}{y^{{\\bar\\imath}}} c^{{\\bar\\jmath} m} c_{j l {\\bar\\jmath}} c_{i k {\\bar\\imath}}+\\partial_{i}{y^{{\\bar\\imath}}} \\partial_{l}{y^{{\\bar\\jmath}}} c^{{\\bar k} m} c_{j k {\\bar k}} c_{{\\bar\\imath} {\\bar\\jmath} m}+\\partial_{j}{y^{{\\bar\\imath}}} \\partial_{l}{y^{{\\bar\\jmath}}} c^{{\\bar k} m} c_{i k {\\bar k}} c_{{\\bar\\imath} {\\bar\\jmath} m}+\\partial_{k}{y^{{\\bar\\imath}}} \\partial_{l}{y^{{\\bar\\jmath}}} c^{{\\bar k} m} c_{i j {\\bar k}} c_{{\\bar\\imath} {\\bar\\jmath} m}.$$"
   ]
  },
  {
   "cell_type": "code",
   "execution_count": 165,
   "id": "28a65ace",
   "metadata": {},
   "outputs": [
    {
     "data": {
      "text/markdown": [
       "${}D_{l}{u_{i j k}} = u_{i j k l}+c_{i j k {\\bar l}} \\partial_{l}{y^{{\\bar l}}}$"
      ]
     },
     "metadata": {},
     "output_type": "display_data"
    }
   ],
   "source": [
    "ex:= D_{l}{u_{i j k}} = u_{i j k l} + c_{i j k lb} \\partial_{l}{y^{lb}};"
   ]
  },
  {
   "cell_type": "code",
   "execution_count": 166,
   "id": "ae575126",
   "metadata": {},
   "outputs": [
    {
     "data": {
      "text/markdown": [
       "${}u_{i j k l} = -c_{i j k {\\bar l}} \\partial_{l}{y^{{\\bar l}}}+D_{l}{u_{i j k}}$"
      ]
     },
     "metadata": {},
     "output_type": "display_data"
    }
   ],
   "source": [
    "isolate(ex, $u_{i j k l}$);"
   ]
  },
  {
   "cell_type": "code",
   "execution_count": 167,
   "id": "25854604",
   "metadata": {},
   "outputs": [
    {
     "data": {
      "text/markdown": [
       "${}u_{i j k l} = -c_{i j k {\\bar l}} \\partial_{l}{y^{{\\bar l}}}+D_{l}\\left(-c_{{\\bar\\imath} j k} \\partial_{i}{y^{{\\bar\\imath}}}-c_{i {\\bar\\jmath} k} \\partial_{j}{y^{{\\bar\\jmath}}}-c_{i j {\\bar k}} \\partial_{k}{y^{{\\bar k}}}-2h_{i j k}\\right)$"
      ]
     },
     "metadata": {},
     "output_type": "display_data"
    }
   ],
   "source": [
    "substitute(ex, rule_uijk);"
   ]
  },
  {
   "cell_type": "code",
   "execution_count": 168,
   "id": "63a0e5bc",
   "metadata": {},
   "outputs": [
    {
     "data": {
      "text/markdown": [
       "${}u_{i j k l} = -c_{i j k {\\bar l}} \\partial_{l}{y^{{\\bar l}}}-D_{l}{c_{{\\bar\\imath} j k}} \\partial_{i}{y^{{\\bar\\imath}}}-c_{{\\bar\\imath} j k} D_{l}\\left(\\partial_{i}{y^{{\\bar\\imath}}}\\right)-D_{l}{c_{i {\\bar\\jmath} k}} \\partial_{j}{y^{{\\bar\\jmath}}}-c_{i {\\bar\\jmath} k} D_{l}\\left(\\partial_{j}{y^{{\\bar\\jmath}}}\\right)-D_{l}{c_{i j {\\bar k}}} \\partial_{k}{y^{{\\bar k}}}-c_{i j {\\bar k}} D_{l}\\left(\\partial_{k}{y^{{\\bar k}}}\\right)-2D_{l}{h_{i j k}}$"
      ]
     },
     "metadata": {},
     "output_type": "display_data"
    }
   ],
   "source": [
    "distribute(_)\n",
    "product_rule(_);"
   ]
  },
  {
   "cell_type": "code",
   "execution_count": 169,
   "id": "7290eb26",
   "metadata": {},
   "outputs": [
    {
     "data": {
      "text/markdown": [
       "${}u_{i j k l} = -c_{i j k {\\bar l}} \\partial_{l}{y^{{\\bar l}}}-D_{l}{c_{{\\bar\\imath} j k}} \\partial_{i}{y^{{\\bar\\imath}}}-c_{{\\bar\\imath} j k} \\partial_{i l}{y^{{\\bar\\imath}}}-D_{l}{c_{i {\\bar\\jmath} k}} \\partial_{j}{y^{{\\bar\\jmath}}}-c_{i {\\bar\\jmath} k} \\partial_{j l}{y^{{\\bar\\jmath}}}-D_{l}{c_{i j {\\bar k}}} \\partial_{k}{y^{{\\bar k}}}-c_{i j {\\bar k}} \\partial_{k l}{y^{{\\bar k}}}-2\\partial_{l}{h_{i j k}}$"
      ]
     },
     "metadata": {},
     "output_type": "display_data"
    }
   ],
   "source": [
    "substitute(_, $D_{k}{\\partial_{j}{y^{ib}}} = \\partial_{j k}{y^{ib}}$)\n",
    "substitute(_, $D_{l}{h_{i j k}} = \\partial_{l}{h_{i j k}}$);"
   ]
  },
  {
   "cell_type": "code",
   "execution_count": 170,
   "id": "b8b5edea",
   "metadata": {},
   "outputs": [
    {
     "data": {
      "text/markdown": [
       "${}u_{i j k l} = -c_{i j k {\\bar l}} \\partial_{l}{y^{{\\bar l}}}-c_{j k {\\bar\\imath} l} \\partial_{i}{y^{{\\bar\\imath}}}-c_{j k {\\bar\\imath} {\\bar l}} \\partial_{l}{y^{{\\bar l}}} \\partial_{i}{y^{{\\bar\\imath}}}-c_{{\\bar\\imath} j k} c^{{\\bar m} n} c_{i l {\\bar m}} \\partial_{n}{y^{{\\bar\\imath}}}+c_{{\\bar\\imath} j k} c^{{\\bar\\imath} m} c_{{\\bar\\jmath} {\\bar k} m} \\partial_{i}{y^{{\\bar\\jmath}}} \\partial_{l}{y^{{\\bar k}}}-2c_{{\\bar\\imath} j k} c^{{\\bar\\imath} m} h_{i l m}-c_{i k {\\bar\\jmath} l} \\partial_{j}{y^{{\\bar\\jmath}}}-c_{i k {\\bar\\jmath} {\\bar l}} \\partial_{l}{y^{{\\bar l}}} \\partial_{j}{y^{{\\bar\\jmath}}}-c_{i {\\bar\\jmath} k} c^{{\\bar m} n} c_{j l {\\bar m}} \\partial_{n}{y^{{\\bar\\jmath}}}+c_{i {\\bar\\jmath} k} c^{{\\bar\\jmath} m} c_{{\\bar\\imath} {\\bar k} m} \\partial_{j}{y^{{\\bar\\imath}}} \\partial_{l}{y^{{\\bar k}}}-2c_{i {\\bar\\jmath} k} c^{{\\bar\\jmath} m} h_{j l m}-c_{i j {\\bar k} l} \\partial_{k}{y^{{\\bar k}}}-c_{i j {\\bar k} {\\bar l}} \\partial_{l}{y^{{\\bar l}}} \\partial_{k}{y^{{\\bar k}}}-c_{i j {\\bar k}} c^{{\\bar m} n} c_{k l {\\bar m}} \\partial_{n}{y^{{\\bar k}}}+c_{i j {\\bar k}} c^{{\\bar k} m} c_{{\\bar\\imath} {\\bar\\jmath} m} \\partial_{k}{y^{{\\bar\\imath}}} \\partial_{l}{y^{{\\bar\\jmath}}}-2c_{i j {\\bar k}} c^{{\\bar k} m} h_{k l m}-2\\partial_{l}{h_{i j k}}$"
      ]
     },
     "metadata": {},
     "output_type": "display_data"
    }
   ],
   "source": [
    "substitute(_, rule_ddy)\n",
    "canonicalise(_)\n",
    "substitute(_, $D_{l}{c_{i j kb}} = c_{i j kb l} + c_{i j kb lb} \\partial_{l}{y^{lb}}$)\n",
    "distribute(_);"
   ]
  },
  {
   "cell_type": "code",
   "execution_count": 171,
   "id": "5ada3fbf",
   "metadata": {},
   "outputs": [
    {
     "data": {
      "text/markdown": [
       "${}u_{i j k l} = -2\\partial_{l}{h_{i j k}}-\\partial_{i}{y^{{\\bar\\imath}}} c_{j k l {\\bar\\imath}}-\\partial_{j}{y^{{\\bar\\imath}}} c_{i k l {\\bar\\imath}}-\\partial_{k}{y^{{\\bar\\imath}}} c_{i j l {\\bar\\imath}}-\\partial_{l}{y^{{\\bar\\imath}}} c_{i j k {\\bar\\imath}}-\\partial_{i}{y^{{\\bar\\imath}}} \\partial_{l}{y^{{\\bar\\jmath}}} c_{j k {\\bar\\imath} {\\bar\\jmath}}-\\partial_{j}{y^{{\\bar\\imath}}} \\partial_{l}{y^{{\\bar\\jmath}}} c_{i k {\\bar\\imath} {\\bar\\jmath}}-\\partial_{k}{y^{{\\bar\\imath}}} \\partial_{l}{y^{{\\bar\\jmath}}} c_{i j {\\bar\\imath} {\\bar\\jmath}}-2c^{{\\bar\\imath} m} c_{i j {\\bar\\imath}} h_{k l m}-2c^{{\\bar\\imath} m} c_{i k {\\bar\\imath}} h_{j l m}-2c^{{\\bar\\imath} m} c_{j k {\\bar\\imath}} h_{i l m}-\\partial_{m}{y^{{\\bar\\imath}}} c^{{\\bar\\jmath} m} c_{i j {\\bar\\imath}} c_{k l {\\bar\\jmath}}-\\partial_{m}{y^{{\\bar\\imath}}} c^{{\\bar\\jmath} m} c_{i l {\\bar\\jmath}} c_{j k {\\bar\\imath}}-\\partial_{m}{y^{{\\bar\\imath}}} c^{{\\bar\\jmath} m} c_{j l {\\bar\\jmath}} c_{i k {\\bar\\imath}}+\\partial_{i}{y^{{\\bar\\imath}}} \\partial_{l}{y^{{\\bar\\jmath}}} c^{{\\bar k} m} c_{j k {\\bar k}} c_{{\\bar\\imath} {\\bar\\jmath} m}+\\partial_{j}{y^{{\\bar\\imath}}} \\partial_{l}{y^{{\\bar\\jmath}}} c^{{\\bar k} m} c_{i k {\\bar k}} c_{{\\bar\\imath} {\\bar\\jmath} m}+\\partial_{k}{y^{{\\bar\\imath}}} \\partial_{l}{y^{{\\bar\\jmath}}} c^{{\\bar k} m} c_{i j {\\bar k}} c_{{\\bar\\imath} {\\bar\\jmath} m}$"
      ]
     },
     "metadata": {},
     "output_type": "display_data"
    }
   ],
   "source": [
    "tidy(_)"
   ]
  },
  {
   "cell_type": "code",
   "execution_count": 172,
   "id": "baba8ed6",
   "metadata": {},
   "outputs": [
    {
     "data": {
      "text/markdown": [
       "${}u_{i j k l} = -2\\partial_{l}{h_{i j k}}-\\partial_{i}{y^{{\\bar\\imath}}} c_{j k l {\\bar\\imath}}-\\partial_{j}{y^{{\\bar\\imath}}} c_{i k l {\\bar\\imath}}-\\partial_{k}{y^{{\\bar\\imath}}} c_{i j l {\\bar\\imath}}-\\partial_{l}{y^{{\\bar\\imath}}} c_{i j k {\\bar\\imath}}-\\partial_{i}{y^{{\\bar\\imath}}} \\partial_{l}{y^{{\\bar\\jmath}}} c_{j k {\\bar\\imath} {\\bar\\jmath}}-\\partial_{j}{y^{{\\bar\\imath}}} \\partial_{l}{y^{{\\bar\\jmath}}} c_{i k {\\bar\\imath} {\\bar\\jmath}}-\\partial_{k}{y^{{\\bar\\imath}}} \\partial_{l}{y^{{\\bar\\jmath}}} c_{i j {\\bar\\imath} {\\bar\\jmath}}-2c^{{\\bar\\imath} m} c_{i j {\\bar\\imath}} h_{k l m}-2c^{{\\bar\\imath} m} c_{i k {\\bar\\imath}} h_{j l m}-2c^{{\\bar\\imath} m} c_{j k {\\bar\\imath}} h_{i l m}+u^{{\\bar\\imath} {\\bar\\jmath}} c_{i j {\\bar\\imath}} c_{k l {\\bar\\jmath}}+u^{{\\bar\\imath} {\\bar\\jmath}} c_{i l {\\bar\\jmath}} c_{j k {\\bar\\imath}}+u^{{\\bar\\imath} {\\bar\\jmath}} c_{j l {\\bar\\jmath}} c_{i k {\\bar\\imath}}+\\partial_{i}{y^{{\\bar\\imath}}} \\partial_{l}{y^{{\\bar\\jmath}}} c^{{\\bar k} m} c_{j k {\\bar k}} c_{{\\bar\\imath} {\\bar\\jmath} m}+\\partial_{j}{y^{{\\bar\\imath}}} \\partial_{l}{y^{{\\bar\\jmath}}} c^{{\\bar k} m} c_{i k {\\bar k}} c_{{\\bar\\imath} {\\bar\\jmath} m}+\\partial_{k}{y^{{\\bar\\imath}}} \\partial_{l}{y^{{\\bar\\jmath}}} c^{{\\bar k} m} c_{i j {\\bar k}} c_{{\\bar\\imath} {\\bar\\jmath} m}$"
      ]
     },
     "metadata": {},
     "output_type": "display_data"
    }
   ],
   "source": [
    "substitute(_, rules_cu);"
   ]
  },
  {
   "cell_type": "code",
   "execution_count": 173,
   "id": "ce7a1cc5",
   "metadata": {},
   "outputs": [
    {
     "data": {
      "text/markdown": [
       "${}u_{i j k l} = -2\\partial_{l}{h_{i j k}}-\\partial_{i}{y^{{\\bar\\imath}}} c_{j k l {\\bar\\imath}}-\\partial_{j}{y^{{\\bar\\imath}}} c_{i k l {\\bar\\imath}}-\\partial_{k}{y^{{\\bar\\imath}}} c_{i j l {\\bar\\imath}}-\\partial_{l}{y^{{\\bar\\imath}}} c_{i j k {\\bar\\imath}}-\\partial_{i}{y^{{\\bar\\imath}}} \\partial_{l}{y^{{\\bar\\jmath}}} c_{j k {\\bar\\imath} {\\bar\\jmath}}-\\partial_{j}{y^{{\\bar\\imath}}} \\partial_{l}{y^{{\\bar\\jmath}}} c_{i k {\\bar\\imath} {\\bar\\jmath}}-\\partial_{k}{y^{{\\bar\\imath}}} \\partial_{l}{y^{{\\bar\\jmath}}} c_{i j {\\bar\\imath} {\\bar\\jmath}}-2c^{{\\bar\\imath} m} c_{i j {\\bar\\imath}} h_{k l m}-2c^{{\\bar\\imath} m} c_{i k {\\bar\\imath}} h_{j l m}-2c^{{\\bar\\imath} m} c_{j k {\\bar\\imath}} h_{i l m}+c_{i j {\\bar\\imath}} c_{k l {\\bar\\jmath}} u^{{\\bar\\imath} {\\bar\\jmath}}+c_{i k {\\bar\\imath}} c_{j l {\\bar\\jmath}} u^{{\\bar\\imath} {\\bar\\jmath}}+c_{i l {\\bar\\imath}} c_{j k {\\bar\\jmath}} u^{{\\bar\\jmath} {\\bar\\imath}}+\\partial_{i}{y^{{\\bar\\imath}}} \\partial_{l}{y^{{\\bar\\jmath}}} c^{{\\bar k} m} c_{j k {\\bar k}} c_{{\\bar\\imath} {\\bar\\jmath} m}+\\partial_{j}{y^{{\\bar\\imath}}} \\partial_{l}{y^{{\\bar\\jmath}}} c^{{\\bar k} m} c_{i k {\\bar k}} c_{{\\bar\\imath} {\\bar\\jmath} m}+\\partial_{k}{y^{{\\bar\\imath}}} \\partial_{l}{y^{{\\bar\\jmath}}} c^{{\\bar k} m} c_{i j {\\bar k}} c_{{\\bar\\imath} {\\bar\\jmath} m}$"
      ]
     },
     "metadata": {},
     "output_type": "display_data"
    }
   ],
   "source": [
    "tidy(_)"
   ]
  },
  {
   "cell_type": "code",
   "execution_count": 174,
   "id": "d5e8ca98",
   "metadata": {},
   "outputs": [],
   "source": [
    "# print(ex._latex_())"
   ]
  },
  {
   "cell_type": "markdown",
   "id": "d07028e0",
   "metadata": {},
   "source": [
    "## 3.4. Rules for $\\partial_if$ and $\\partial_{ij} f$\n",
    "\n",
    "$\\newcommand{\\bracket}[1]{\\langle #1 \\rangle}$\n",
    "$\\newcommand{\\nablat}{\\tilde{\\nabla}}$\n",
    "\n",
    "The gradient of $f$ is a vector field $\\tilde\\nabla f$ over $X\\times Y$. Over $\\Sigma$, we decompose it into $\\nabla f+\\nabla^N\\!f$ where $\\nabla f=:G$ denotes its projection onto $T\\Sigma$ and $\\nabla^N\\!f=:N$ its projection onto $T^\\perp \\Sigma$. Recall that since $N$ is normal in coordinates we represent instead as a tangent vector field: define $N'=KN$ and then $N'=N^kt_k$.\n",
    "\n",
    "The starting point is to express $\\partial_if$ in terms of $G$ and $N$:\n",
    "$$\\partial_if = \\bracket{\\nablat f, e_i} = \\bracket{G+N, \\frac{t_i+n_i}{2}}=\\frac12 \\bracket{G, t_i} + \\frac12\\bracket{N, n_i}=\\frac12 \\bracket{G, t_i} - \\frac12\\bracket{N', t_i}=\\frac12 g_{ij} G^j - \\frac12 g_{ij} N^j.$$"
   ]
  },
  {
   "cell_type": "code",
   "execution_count": 175,
   "id": "d7acfd90",
   "metadata": {},
   "outputs": [
    {
     "data": {
      "text/markdown": [
       "${}\\partial_{i}{f} = \\frac{1}{2}G_{i} - \\frac{1}{2}N_{i}$"
      ]
     },
     "metadata": {},
     "output_type": "display_data"
    }
   ],
   "source": [
    "rule_df:= \\partial_{i}{f} = 1/2 G_{i} - 1/2 N_{i};"
   ]
  },
  {
   "cell_type": "markdown",
   "id": "48e758c0",
   "metadata": {},
   "source": [
    "To write $\\partial_{ij}f$ in terms of $G$ and $N$ and their derivatives we start with the expression of the covariant derivative \n",
    "\n",
    "$$\\nabla_iG_j=\\partial_i G_j - \\Gamma^k_{ij}G_k,$$\n",
    "\n",
    "and then express the Christoffel symbols as\n",
    "\n",
    "$$\\Gamma^k_{ij} = \\tilde\\Gamma^k_{ij} - h^k_{ij} = c^{k\\bar m}c_{ij\\bar m} - u^{kl}h_{ijl}.$$"
   ]
  },
  {
   "cell_type": "code",
   "execution_count": 176,
   "id": "98112e3b",
   "metadata": {},
   "outputs": [
    {
     "data": {
      "text/markdown": [
       "${}\\partial_{i}{G_{j}} = \\nabla_{i}{G_{j}}+c_{i j {\\bar m}} c^{k {\\bar m}} G_{k}-u^{k l} h_{i j l} G_{k}$"
      ]
     },
     "metadata": {},
     "output_type": "display_data"
    },
    {
     "data": {
      "text/markdown": [
       "${}\\partial_{i}{N_{j}} = \\nabla_{i}{N_{j}}+c_{i j {\\bar m}} c^{k {\\bar m}} N_{k}-u^{k l} h_{i j l} N_{k}$"
      ]
     },
     "metadata": {},
     "output_type": "display_data"
    }
   ],
   "source": [
    "# General covariant derivative formulas\n",
    "rule_dG:= \\partial_{i}{G_{j}} = \\nabla_{i}{G_{j}} + c_{i j mb} c^{k mb} G_{k} - u^{k l} h_{i j l} G_k;\n",
    "rule_dN:= \\partial_{i}{N_{j}} = \\nabla_{i}{N_{j}} + c_{i j mb} c^{k mb} N_{k} - u^{k l} h_{i j l} N_k;"
   ]
  },
  {
   "cell_type": "markdown",
   "id": "1e262c9d",
   "metadata": {},
   "source": [
    "Then we follow the same strategy used to derive $u_{ijk}$ and $u_{ijkl}$."
   ]
  },
  {
   "cell_type": "code",
   "execution_count": 177,
   "id": "97617db7",
   "metadata": {},
   "outputs": [
    {
     "data": {
      "text/markdown": [
       "${}D_{i}\\left(\\partial_{j}{f}\\right) = \\partial_{i j}{f}+\\partial_{{\\bar\\imath} j}{f} \\partial_{i}{y^{{\\bar\\imath}}}$"
      ]
     },
     "metadata": {},
     "output_type": "display_data"
    }
   ],
   "source": [
    "ex:= D_{i}{\\partial_{j}{f}} = \\partial_{i j}{f} + \\partial_{ib j}{f} \\partial_{i}{y^{ib}};"
   ]
  },
  {
   "cell_type": "code",
   "execution_count": 178,
   "id": "0d6609b2",
   "metadata": {},
   "outputs": [
    {
     "data": {
      "text/markdown": [
       "${}\\partial_{i j}{f} = -\\partial_{{\\bar\\imath} j}{f} \\partial_{i}{y^{{\\bar\\imath}}}+D_{i}\\left(\\partial_{j}{f}\\right)$"
      ]
     },
     "metadata": {},
     "output_type": "display_data"
    }
   ],
   "source": [
    "isolate(ex, $\\partial_{i j}{f}$);"
   ]
  },
  {
   "cell_type": "code",
   "execution_count": 179,
   "id": "ae4ab2ef",
   "metadata": {},
   "outputs": [
    {
     "data": {
      "text/markdown": [
       "${}\\partial_{i j}{f} = -\\partial_{{\\bar\\imath} j}{f} \\partial_{i}{y^{{\\bar\\imath}}}+D_{i}\\left(\\frac{1}{2}G_{j} - \\frac{1}{2}N_{j}\\right)$"
      ]
     },
     "metadata": {},
     "output_type": "display_data"
    }
   ],
   "source": [
    "substitute(_, rule_df);"
   ]
  },
  {
   "cell_type": "code",
   "execution_count": 180,
   "id": "1d3aa9cd",
   "metadata": {},
   "outputs": [
    {
     "data": {
      "text/markdown": [
       "${}\\partial_{i j}{f} = -\\partial_{{\\bar\\imath} j}{f} \\partial_{i}{y^{{\\bar\\imath}}}+\\frac{1}{2}D_{i}{G_{j}} - \\frac{1}{2}D_{i}{N_{j}}$"
      ]
     },
     "metadata": {},
     "output_type": "display_data"
    }
   ],
   "source": [
    "distribute(_)\n",
    "product_rule(_);"
   ]
  },
  {
   "cell_type": "code",
   "execution_count": 181,
   "id": "6abcbc62",
   "metadata": {},
   "outputs": [
    {
     "data": {
      "text/markdown": [
       "${}\\partial_{i j}{f} = -\\partial_{{\\bar\\imath} j}{f} \\partial_{i}{y^{{\\bar\\imath}}}+\\frac{1}{2}\\partial_{i}{G_{j}} - \\frac{1}{2}\\partial_{i}{N_{j}}$"
      ]
     },
     "metadata": {},
     "output_type": "display_data"
    }
   ],
   "source": [
    "substitute(_, $D_{i}{G_{j}} = \\partial_{i}{G_{j}}$)\n",
    "substitute(_, $D_{i}{N_{j}} = \\partial_{i}{N_{j}}$);"
   ]
  },
  {
   "cell_type": "code",
   "execution_count": null,
   "id": "6e7bad26",
   "metadata": {},
   "outputs": [],
   "source": []
  }
 ],
 "metadata": {
  "kernelspec": {
   "display_name": "Cadabra2",
   "language": "python",
   "name": "cadabra2"
  },
  "language_info": {
   "codemirror_mode": "cadabra",
   "file_extension": ".ipynb",
   "mimetype": "text/cadabra",
   "name": "cadabra2",
   "pygments_lexer": "cadabra"
  }
 },
 "nbformat": 4,
 "nbformat_minor": 5
}
